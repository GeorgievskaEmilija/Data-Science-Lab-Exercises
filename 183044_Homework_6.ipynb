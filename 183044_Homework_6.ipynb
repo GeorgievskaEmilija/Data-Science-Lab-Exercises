{
  "nbformat": 4,
  "nbformat_minor": 0,
  "metadata": {
    "colab": {
      "name": "183044_Homework-6.ipynb",
      "provenance": [],
      "collapsed_sections": [],
      "include_colab_link": true
    },
    "kernelspec": {
      "name": "python3",
      "display_name": "Python 3"
    },
    "accelerator": "GPU"
  },
  "cells": [
    {
      "cell_type": "markdown",
      "metadata": {
        "id": "view-in-github",
        "colab_type": "text"
      },
      "source": [
        "<a href=\"https://colab.research.google.com/github/GeorgievskaEmilija/Data-Science-Lab-Exercises/blob/main/183044_Homework_6.ipynb\" target=\"_parent\"><img src=\"https://colab.research.google.com/assets/colab-badge.svg\" alt=\"Open In Colab\"/></a>"
      ]
    },
    {
      "cell_type": "markdown",
      "metadata": {
        "id": "yfnMxzgRAzFX"
      },
      "source": [
        "\n",
        "<font size = 4 color='Orange'>\n",
        "Learning Goals</font>\n",
        "\n",
        "<font color = 'Orange' size = 3 >In this Exercise your goal is to try different clustering algorithams on simple Iris Species dataset.\n",
        "\n",
        "You need to report for each algorithm the clustering evaluation metrics into a table.</font>\n",
        "\n",
        "\n",
        "<font color = 'Orange' size = 4 > Dataset </font>\n",
        "\n",
        "<font color = 'Orange' size = 3>\n",
        "The Dataset for Iris Species is public available on kaggle: https://www.kaggle.com/uciml/iris and also you have the code below for the dataset as part of  sklearn.datasets.\n",
        "</font>\n",
        "<ul>\n",
        "<font color = 'Orange' size = 3>\n",
        "Clustering algorithms\n",
        "\n",
        "<li>K-Means Clustering</li>\n",
        "<li>Agglomerative Clustering</li> \n",
        "<li>Affinity propagation Clustering</li> \n",
        "<li>Spectral Clustering</li> \n",
        "<li>DBSCAN Clustering</li>\n",
        "</ul>\n",
        "</font>\n",
        "\n",
        "<ul>\n",
        "<font color = 'Orange' size = 3>\n",
        "Clustering evaluation metrics\n",
        "\n",
        "<li>ARI - Adjusted Rand index</li>\n",
        "<li>AMI - Adjusted mutual information</li> \n",
        "<li>Homogenity</li> \n",
        "<li>Completeness</li> \n",
        "<li>V-measure</li>\n",
        "</ul>\n",
        "</font>\n",
        "\n",
        "<font color = 'Orange' size = 3>\n",
        "Choose the best clustering algorithm from the table and make visualization of the genereted clusters. \n",
        "For the visualization first you need to make dimensionality reduction (PCA) on X data into 2D data and then use your best clustering algorithm for cluster prediction.\n",
        "</font>\n",
        "\n"
      ]
    },
    {
      "cell_type": "code",
      "metadata": {
        "id": "_CyckE4I-QQk"
      },
      "source": [
        "from sklearn import datasets\n",
        "\n",
        "data = datasets.load_iris()\n",
        "X, y = data.data, data.target"
      ],
      "execution_count": null,
      "outputs": []
    },
    {
      "cell_type": "code",
      "metadata": {
        "colab": {
          "base_uri": "https://localhost:8080/",
          "height": 340
        },
        "id": "e8hQEzrTYeQb",
        "outputId": "e88d9d8a-8f43-4f3d-cef3-d4c7d6731a3d"
      },
      "source": [
        "import matplotlib.pyplot as plt\n",
        "%matplotlib inline\n",
        "\n",
        "plt.figure(figsize=(10,5))\n",
        "plt.plot(X[:,0], X[:,1], 'bo')"
      ],
      "execution_count": null,
      "outputs": [
        {
          "output_type": "execute_result",
          "data": {
            "text/plain": [
              "[<matplotlib.lines.Line2D at 0x7fcf4fad8748>]"
            ]
          },
          "metadata": {
            "tags": []
          },
          "execution_count": 3
        },
        {
          "output_type": "display_data",
          "data": {
            "image/png": "[encoded data removed]",
            "text/plain": [
              "<Figure size 720x360 with 1 Axes>"
            ]
          },
          "metadata": {
            "tags": [],
            "needs_background": "light"
          }
        }
      ]
    },
    {
      "cell_type": "code",
      "metadata": {
        "colab": {
          "base_uri": "https://localhost:8080/"
        },
        "id": "KC_lK8iZZQHI",
        "outputId": "3dd3a9f6-e8c7-4a0d-fcb6-4e3740ac672b"
      },
      "source": [
        "from sklearn import metrics\n",
        "import pandas as pd\n",
        "from sklearn.cluster import KMeans, AgglomerativeClustering, AffinityPropagation, SpectralClustering,DBSCAN\n",
        "\n",
        "algoritmi = []\n",
        "algoritmi.append(KMeans(n_clusters=10, random_state=2))\n",
        "algoritmi.append(AffinityPropagation())\n",
        "algoritmi.append(SpectralClustering(n_clusters=10, random_state=1, affinity='nearest_neighbors'))\n",
        "algoritmi.append(AgglomerativeClustering(n_clusters=10))\n",
        "algoritmi.append(DBSCAN())\n",
        "\n",
        "data = []\n",
        "for algoritam in algoritmi:\n",
        "    algoritam.fit(X)\n",
        "    data.append(({\n",
        "        'ARI': metrics.adjusted_rand_score(y, algoritam.labels_),\n",
        "        'AMI': metrics.adjusted_mutual_info_score(y, algoritam.labels_,average_method='arithmetic'),\n",
        "        'Homogenity': metrics.homogeneity_score(y, algoritam.labels_),\n",
        "        'Completeness': metrics.completeness_score(y, algoritam.labels_),\n",
        "        'V-measure': metrics.v_measure_score(y, algoritam.labels_)}))\n",
        "\n"
      ],
      "execution_count": null,
      "outputs": [
        {
          "output_type": "stream",
          "text": [
            "/usr/local/lib/python3.6/dist-packages/sklearn/manifold/_spectral_embedding.py:236: UserWarning: Graph is not fully connected, spectral embedding may not work as expected.\n",
            "  warnings.warn(\"Graph is not fully connected, spectral embedding\"\n"
          ],
          "name": "stderr"
        }
      ]
    },
    {
      "cell_type": "code",
      "metadata": {
        "colab": {
          "base_uri": "https://localhost:8080/",
          "height": 197
        },
        "id": "OdFwRqnAbvGZ",
        "outputId": "5c1acb05-cb5c-4ea1-b813-bafd0bd995a7"
      },
      "source": [
        "rezultati = pd.DataFrame(data=data, columns=['ARI', 'AMI', 'Homogenity', 'Completeness', 'V-measure'],\n",
        "                                   index=['K-means', 'Affinity','Spectral', 'Agglomerative','DBSCAN'])\n",
        "rezultati"
      ],
      "execution_count": null,
      "outputs": [
        {
          "output_type": "execute_result",
          "data": {
            "text/html": [
              "<div>\n",
              "<style scoped>\n",
              "    .dataframe tbody tr th:only-of-type {\n",
              "        vertical-align: middle;\n",
              "    }\n",
              "\n",
              "    .dataframe tbody tr th {\n",
              "        vertical-align: top;\n",
              "    }\n",
              "\n",
              "    .dataframe thead th {\n",
              "        text-align: right;\n",
              "    }\n",
              "</style>\n",
              "<table border=\"1\" class=\"dataframe\">\n",
              "  <thead>\n",
              "    <tr style=\"text-align: right;\">\n",
              "      <th></th>\n",
              "      <th>ARI</th>\n",
              "      <th>AMI</th>\n",
              "      <th>Homogenity</th>\n",
              "      <th>Completeness</th>\n",
              "      <th>V-measure</th>\n",
              "    </tr>\n",
              "  </thead>\n",
              "  <tbody>\n",
              "    <tr>\n",
              "      <th>K-means</th>\n",
              "      <td>0.404263</td>\n",
              "      <td>0.610535</td>\n",
              "      <td>0.925560</td>\n",
              "      <td>0.473583</td>\n",
              "      <td>0.626569</td>\n",
              "    </tr>\n",
              "    <tr>\n",
              "      <th>Affinity</th>\n",
              "      <td>0.481172</td>\n",
              "      <td>0.659933</td>\n",
              "      <td>0.914941</td>\n",
              "      <td>0.527822</td>\n",
              "      <td>0.669446</td>\n",
              "    </tr>\n",
              "    <tr>\n",
              "      <th>Spectral</th>\n",
              "      <td>0.322857</td>\n",
              "      <td>0.573970</td>\n",
              "      <td>0.906382</td>\n",
              "      <td>0.437467</td>\n",
              "      <td>0.590114</td>\n",
              "    </tr>\n",
              "    <tr>\n",
              "      <th>Agglomerative</th>\n",
              "      <td>0.342231</td>\n",
              "      <td>0.547030</td>\n",
              "      <td>0.851754</td>\n",
              "      <td>0.422575</td>\n",
              "      <td>0.564893</td>\n",
              "    </tr>\n",
              "    <tr>\n",
              "      <th>DBSCAN</th>\n",
              "      <td>0.520619</td>\n",
              "      <td>0.598995</td>\n",
              "      <td>0.559946</td>\n",
              "      <td>0.656558</td>\n",
              "      <td>0.604416</td>\n",
              "    </tr>\n",
              "  </tbody>\n",
              "</table>\n",
              "</div>"
            ],
            "text/plain": [
              "                    ARI       AMI  Homogenity  Completeness  V-measure\n",
              "K-means        0.404263  0.610535    0.925560      0.473583   0.626569\n",
              "Affinity       0.481172  0.659933    0.914941      0.527822   0.669446\n",
              "Spectral       0.322857  0.573970    0.906382      0.437467   0.590114\n",
              "Agglomerative  0.342231  0.547030    0.851754      0.422575   0.564893\n",
              "DBSCAN         0.520619  0.598995    0.559946      0.656558   0.604416"
            ]
          },
          "metadata": {
            "tags": []
          },
          "execution_count": 5
        }
      ]
    },
    {
      "cell_type": "code",
      "metadata": {
        "colab": {
          "base_uri": "https://localhost:8080/",
          "height": 268
        },
        "id": "553S1XN3bpmC",
        "outputId": "d3bd4973-788d-4e5f-ec86-558c502393e0"
      },
      "source": [
        "from sklearn.decomposition import PCA\n",
        "import numpy as np\n",
        "import seaborn as sns\n",
        "\n",
        "\n",
        "pca = PCA(2)\n",
        "newData = pca.fit_transform(X)\n",
        "\n",
        "best = algoritmi[1] #affiniti\n",
        "label = best.fit_predict(newData)\n",
        "u_labels = np.unique(label)\n",
        "labels = best.labels_\n",
        "\n",
        "for lab in u_labels:\n",
        "    plt.scatter(newData[label == lab , 0] , newData[label == lab , 1] , label = lab)\n",
        "plt.legend()\n",
        "plt.show()"
      ],
      "execution_count": null,
      "outputs": [
        {
          "output_type": "display_data",
          "data": {
            "image/png": "[encoded data removed]",
            "text/plain": [
              "<Figure size 432x288 with 1 Axes>"
            ]
          },
          "metadata": {
            "tags": [],
            "needs_background": "light"
          }
        }
      ]
    }
  ]
}