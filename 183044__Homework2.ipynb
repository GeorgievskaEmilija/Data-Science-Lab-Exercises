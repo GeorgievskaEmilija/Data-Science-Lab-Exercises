{
  "nbformat": 4,
  "nbformat_minor": 0,
  "metadata": {
    "colab": {
      "name": "183044_ Homework2.ipynb",
      "provenance": [],
      "collapsed_sections": [],
      "include_colab_link": true
    },
    "kernelspec": {
      "name": "python3",
      "display_name": "Python 3"
    }
  },
  "cells": [
    {
      "cell_type": "markdown",
      "metadata": {
        "id": "view-in-github",
        "colab_type": "text"
      },
      "source": [
        "<a href=\"https://colab.research.google.com/github/GeorgievskaEmilija/Data-Science-Lab-Exercises/blob/main/183044__Homework2.ipynb\" target=\"_parent\"><img src=\"https://colab.research.google.com/assets/colab-badge.svg\" alt=\"Open In Colab\"/></a>"
      ]
    },
    {
      "cell_type": "markdown",
      "metadata": {
        "id": "YGkxKndWSyMH"
      },
      "source": [
        "<ul><font size = 5 color='Orange'>\n",
        "Learning Goals</font>\n",
        "<font color = 'Orange'><li>Understand the dataset.</li>\n",
        "<li>Make different visualizations.</li>\n",
        "<li>\n",
        "Extract information based on the visual representation of the database.</li>\n",
        "\n",
        "</ul>\n"
      ]
    },
    {
      "cell_type": "markdown",
      "metadata": {
        "id": "XHvwKKVMTayc"
      },
      "source": [
        "The Dataset for this exercise depends on your index number i.e number_of_data_set = index % 10:\n",
        "\n",
        "\n",
        "0.  https://www.kaggle.com/tunguz/us-elections-dataset\n",
        "1.  https://www.kaggle.com/andrewmvd/heart-failure-clinical-data\n",
        "2.  https://www.kaggle.com/sootersaalu/amazon-top-50-bestselling-books-2009-2019\n",
        "3.  https://www.kaggle.com/anmolkumar/health-insurance-cross-sell-prediction\n",
        "4.  https://www.kaggle.com/uciml/red-wine-quality-cortez-et-al-2009\n",
        "5.  https://www.kaggle.com/anmolkumar/house-price-prediction-challenge\n",
        "6.  https://www.kaggle.com/arslanali4343/real-estate-dataset\n",
        "7.  https://www.kaggle.com/arslanali4343/real-estate-dataset\n",
        "8.  https://www.kaggle.com/terenceshin/covid19s-impact-on-airport-traffic\n",
        "9.  https://www.kaggle.com/arslanali4343/top-personality-dataset\n",
        "\n",
        "\n",
        "\n",
        "\n",
        "\n"
      ]
    },
    {
      "cell_type": "markdown",
      "metadata": {
        "id": "2zYG5HXmV4Md"
      },
      "source": [
        "# <font color = 'Orange'> Read your Dataset (.csv) </font>"
      ]
    },
    {
      "cell_type": "code",
      "metadata": {
        "id": "Zgqhv0Z7WCjH"
      },
      "source": [
        "import numpy as np\n",
        "import pandas as pd\n",
        "from datetime import datetime\n",
        "from datetime import date\n",
        "\n",
        "import requests\n",
        "from bs4 import BeautifulSoup\n",
        "from IPython.display import HTML\n",
        "requests.packages.urllib3.disable_warnings()\n",
        "import warnings\n",
        "warnings.filterwarnings(\"ignore\")"
      ],
      "execution_count": null,
      "outputs": []
    },
    {
      "cell_type": "code",
      "metadata": {
        "id": "Y0WGMzH26ojO",
        "colab": {
          "base_uri": "https://localhost:8080/"
        },
        "outputId": "532386f0-5938-4a17-9c8c-c3b9aee4bf31"
      },
      "source": [
        "from google.colab import drive\n",
        "drive.mount('/content/drive')"
      ],
      "execution_count": null,
      "outputs": [
        {
          "output_type": "stream",
          "text": [
            "Drive already mounted at /content/drive; to attempt to forcibly remount, call drive.mount(\"/content/drive\", force_remount=True).\n"
          ],
          "name": "stdout"
        }
      ]
    },
    {
      "cell_type": "code",
      "metadata": {
        "id": "q0jJactx7W-5"
      },
      "source": [
        "dataset=pd.read_csv('/content/drive/My Drive/Colab Notebooks/winequality-red.csv')"
      ],
      "execution_count": null,
      "outputs": []
    },
    {
      "cell_type": "code",
      "metadata": {
        "id": "B4vzqVSi7gQe",
        "colab": {
          "base_uri": "https://localhost:8080/",
          "height": 436
        },
        "outputId": "4b278be2-f8f0-484a-ef4a-e3cb98ec90f3"
      },
      "source": [
        "dataset"
      ],
      "execution_count": null,
      "outputs": [
        {
          "output_type": "execute_result",
          "data": {
            "text/html": [
              "<div>\n",
              "<style scoped>\n",
              "    .dataframe tbody tr th:only-of-type {\n",
              "        vertical-align: middle;\n",
              "    }\n",
              "\n",
              "    .dataframe tbody tr th {\n",
              "        vertical-align: top;\n",
              "    }\n",
              "\n",
              "    .dataframe thead th {\n",
              "        text-align: right;\n",
              "    }\n",
              "</style>\n",
              "<table border=\"1\" class=\"dataframe\">\n",
              "  <thead>\n",
              "    <tr style=\"text-align: right;\">\n",
              "      <th></th>\n",
              "      <th>fixed acidity</th>\n",
              "      <th>volatile acidity</th>\n",
              "      <th>citric acid</th>\n",
              "      <th>residual sugar</th>\n",
              "      <th>chlorides</th>\n",
              "      <th>free sulfur dioxide</th>\n",
              "      <th>total sulfur dioxide</th>\n",
              "      <th>density</th>\n",
              "      <th>pH</th>\n",
              "      <th>sulphates</th>\n",
              "      <th>alcohol</th>\n",
              "      <th>quality</th>\n",
              "    </tr>\n",
              "  </thead>\n",
              "  <tbody>\n",
              "    <tr>\n",
              "      <th>0</th>\n",
              "      <td>7.4</td>\n",
              "      <td>0.700</td>\n",
              "      <td>0.00</td>\n",
              "      <td>1.9</td>\n",
              "      <td>0.076</td>\n",
              "      <td>11.0</td>\n",
              "      <td>34.0</td>\n",
              "      <td>0.99780</td>\n",
              "      <td>3.51</td>\n",
              "      <td>0.56</td>\n",
              "      <td>9.4</td>\n",
              "      <td>5</td>\n",
              "    </tr>\n",
              "    <tr>\n",
              "      <th>1</th>\n",
              "      <td>7.8</td>\n",
              "      <td>0.880</td>\n",
              "      <td>0.00</td>\n",
              "      <td>2.6</td>\n",
              "      <td>0.098</td>\n",
              "      <td>25.0</td>\n",
              "      <td>67.0</td>\n",
              "      <td>0.99680</td>\n",
              "      <td>3.20</td>\n",
              "      <td>0.68</td>\n",
              "      <td>9.8</td>\n",
              "      <td>5</td>\n",
              "    </tr>\n",
              "    <tr>\n",
              "      <th>2</th>\n",
              "      <td>7.8</td>\n",
              "      <td>0.760</td>\n",
              "      <td>0.04</td>\n",
              "      <td>2.3</td>\n",
              "      <td>0.092</td>\n",
              "      <td>15.0</td>\n",
              "      <td>54.0</td>\n",
              "      <td>0.99700</td>\n",
              "      <td>3.26</td>\n",
              "      <td>0.65</td>\n",
              "      <td>9.8</td>\n",
              "      <td>5</td>\n",
              "    </tr>\n",
              "    <tr>\n",
              "      <th>3</th>\n",
              "      <td>11.2</td>\n",
              "      <td>0.280</td>\n",
              "      <td>0.56</td>\n",
              "      <td>1.9</td>\n",
              "      <td>0.075</td>\n",
              "      <td>17.0</td>\n",
              "      <td>60.0</td>\n",
              "      <td>0.99800</td>\n",
              "      <td>3.16</td>\n",
              "      <td>0.58</td>\n",
              "      <td>9.8</td>\n",
              "      <td>6</td>\n",
              "    </tr>\n",
              "    <tr>\n",
              "      <th>4</th>\n",
              "      <td>7.4</td>\n",
              "      <td>0.700</td>\n",
              "      <td>0.00</td>\n",
              "      <td>1.9</td>\n",
              "      <td>0.076</td>\n",
              "      <td>11.0</td>\n",
              "      <td>34.0</td>\n",
              "      <td>0.99780</td>\n",
              "      <td>3.51</td>\n",
              "      <td>0.56</td>\n",
              "      <td>9.4</td>\n",
              "      <td>5</td>\n",
              "    </tr>\n",
              "    <tr>\n",
              "      <th>...</th>\n",
              "      <td>...</td>\n",
              "      <td>...</td>\n",
              "      <td>...</td>\n",
              "      <td>...</td>\n",
              "      <td>...</td>\n",
              "      <td>...</td>\n",
              "      <td>...</td>\n",
              "      <td>...</td>\n",
              "      <td>...</td>\n",
              "      <td>...</td>\n",
              "      <td>...</td>\n",
              "      <td>...</td>\n",
              "    </tr>\n",
              "    <tr>\n",
              "      <th>1594</th>\n",
              "      <td>6.2</td>\n",
              "      <td>0.600</td>\n",
              "      <td>0.08</td>\n",
              "      <td>2.0</td>\n",
              "      <td>0.090</td>\n",
              "      <td>32.0</td>\n",
              "      <td>44.0</td>\n",
              "      <td>0.99490</td>\n",
              "      <td>3.45</td>\n",
              "      <td>0.58</td>\n",
              "      <td>10.5</td>\n",
              "      <td>5</td>\n",
              "    </tr>\n",
              "    <tr>\n",
              "      <th>1595</th>\n",
              "      <td>5.9</td>\n",
              "      <td>0.550</td>\n",
              "      <td>0.10</td>\n",
              "      <td>2.2</td>\n",
              "      <td>0.062</td>\n",
              "      <td>39.0</td>\n",
              "      <td>51.0</td>\n",
              "      <td>0.99512</td>\n",
              "      <td>3.52</td>\n",
              "      <td>0.76</td>\n",
              "      <td>11.2</td>\n",
              "      <td>6</td>\n",
              "    </tr>\n",
              "    <tr>\n",
              "      <th>1596</th>\n",
              "      <td>6.3</td>\n",
              "      <td>0.510</td>\n",
              "      <td>0.13</td>\n",
              "      <td>2.3</td>\n",
              "      <td>0.076</td>\n",
              "      <td>29.0</td>\n",
              "      <td>40.0</td>\n",
              "      <td>0.99574</td>\n",
              "      <td>3.42</td>\n",
              "      <td>0.75</td>\n",
              "      <td>11.0</td>\n",
              "      <td>6</td>\n",
              "    </tr>\n",
              "    <tr>\n",
              "      <th>1597</th>\n",
              "      <td>5.9</td>\n",
              "      <td>0.645</td>\n",
              "      <td>0.12</td>\n",
              "      <td>2.0</td>\n",
              "      <td>0.075</td>\n",
              "      <td>32.0</td>\n",
              "      <td>44.0</td>\n",
              "      <td>0.99547</td>\n",
              "      <td>3.57</td>\n",
              "      <td>0.71</td>\n",
              "      <td>10.2</td>\n",
              "      <td>5</td>\n",
              "    </tr>\n",
              "    <tr>\n",
              "      <th>1598</th>\n",
              "      <td>6.0</td>\n",
              "      <td>0.310</td>\n",
              "      <td>0.47</td>\n",
              "      <td>3.6</td>\n",
              "      <td>0.067</td>\n",
              "      <td>18.0</td>\n",
              "      <td>42.0</td>\n",
              "      <td>0.99549</td>\n",
              "      <td>3.39</td>\n",
              "      <td>0.66</td>\n",
              "      <td>11.0</td>\n",
              "      <td>6</td>\n",
              "    </tr>\n",
              "  </tbody>\n",
              "</table>\n",
              "<p>1599 rows × 12 columns</p>\n",
              "</div>"
            ],
            "text/plain": [
              "      fixed acidity  volatile acidity  citric acid  ...  sulphates  alcohol  quality\n",
              "0               7.4             0.700         0.00  ...       0.56      9.4        5\n",
              "1               7.8             0.880         0.00  ...       0.68      9.8        5\n",
              "2               7.8             0.760         0.04  ...       0.65      9.8        5\n",
              "3              11.2             0.280         0.56  ...       0.58      9.8        6\n",
              "4               7.4             0.700         0.00  ...       0.56      9.4        5\n",
              "...             ...               ...          ...  ...        ...      ...      ...\n",
              "1594            6.2             0.600         0.08  ...       0.58     10.5        5\n",
              "1595            5.9             0.550         0.10  ...       0.76     11.2        6\n",
              "1596            6.3             0.510         0.13  ...       0.75     11.0        6\n",
              "1597            5.9             0.645         0.12  ...       0.71     10.2        5\n",
              "1598            6.0             0.310         0.47  ...       0.66     11.0        6\n",
              "\n",
              "[1599 rows x 12 columns]"
            ]
          },
          "metadata": {
            "tags": []
          },
          "execution_count": 4
        }
      ]
    },
    {
      "cell_type": "markdown",
      "metadata": {
        "id": "p1RkbuYIWHaG"
      },
      "source": [
        "**Show info and the first 5 rows of your Dataset**\n",
        "\n"
      ]
    },
    {
      "cell_type": "code",
      "metadata": {
        "id": "VjplI18sWR6C",
        "colab": {
          "base_uri": "https://localhost:8080/",
          "height": 204
        },
        "outputId": "70998cf9-2258-4b7c-8b74-f22134bdf686"
      },
      "source": [
        "dataset.head()"
      ],
      "execution_count": null,
      "outputs": [
        {
          "output_type": "execute_result",
          "data": {
            "text/html": [
              "<div>\n",
              "<style scoped>\n",
              "    .dataframe tbody tr th:only-of-type {\n",
              "        vertical-align: middle;\n",
              "    }\n",
              "\n",
              "    .dataframe tbody tr th {\n",
              "        vertical-align: top;\n",
              "    }\n",
              "\n",
              "    .dataframe thead th {\n",
              "        text-align: right;\n",
              "    }\n",
              "</style>\n",
              "<table border=\"1\" class=\"dataframe\">\n",
              "  <thead>\n",
              "    <tr style=\"text-align: right;\">\n",
              "      <th></th>\n",
              "      <th>fixed acidity</th>\n",
              "      <th>volatile acidity</th>\n",
              "      <th>citric acid</th>\n",
              "      <th>residual sugar</th>\n",
              "      <th>chlorides</th>\n",
              "      <th>free sulfur dioxide</th>\n",
              "      <th>total sulfur dioxide</th>\n",
              "      <th>density</th>\n",
              "      <th>pH</th>\n",
              "      <th>sulphates</th>\n",
              "      <th>alcohol</th>\n",
              "      <th>quality</th>\n",
              "    </tr>\n",
              "  </thead>\n",
              "  <tbody>\n",
              "    <tr>\n",
              "      <th>0</th>\n",
              "      <td>7.4</td>\n",
              "      <td>0.70</td>\n",
              "      <td>0.00</td>\n",
              "      <td>1.9</td>\n",
              "      <td>0.076</td>\n",
              "      <td>11.0</td>\n",
              "      <td>34.0</td>\n",
              "      <td>0.9978</td>\n",
              "      <td>3.51</td>\n",
              "      <td>0.56</td>\n",
              "      <td>9.4</td>\n",
              "      <td>5</td>\n",
              "    </tr>\n",
              "    <tr>\n",
              "      <th>1</th>\n",
              "      <td>7.8</td>\n",
              "      <td>0.88</td>\n",
              "      <td>0.00</td>\n",
              "      <td>2.6</td>\n",
              "      <td>0.098</td>\n",
              "      <td>25.0</td>\n",
              "      <td>67.0</td>\n",
              "      <td>0.9968</td>\n",
              "      <td>3.20</td>\n",
              "      <td>0.68</td>\n",
              "      <td>9.8</td>\n",
              "      <td>5</td>\n",
              "    </tr>\n",
              "    <tr>\n",
              "      <th>2</th>\n",
              "      <td>7.8</td>\n",
              "      <td>0.76</td>\n",
              "      <td>0.04</td>\n",
              "      <td>2.3</td>\n",
              "      <td>0.092</td>\n",
              "      <td>15.0</td>\n",
              "      <td>54.0</td>\n",
              "      <td>0.9970</td>\n",
              "      <td>3.26</td>\n",
              "      <td>0.65</td>\n",
              "      <td>9.8</td>\n",
              "      <td>5</td>\n",
              "    </tr>\n",
              "    <tr>\n",
              "      <th>3</th>\n",
              "      <td>11.2</td>\n",
              "      <td>0.28</td>\n",
              "      <td>0.56</td>\n",
              "      <td>1.9</td>\n",
              "      <td>0.075</td>\n",
              "      <td>17.0</td>\n",
              "      <td>60.0</td>\n",
              "      <td>0.9980</td>\n",
              "      <td>3.16</td>\n",
              "      <td>0.58</td>\n",
              "      <td>9.8</td>\n",
              "      <td>6</td>\n",
              "    </tr>\n",
              "    <tr>\n",
              "      <th>4</th>\n",
              "      <td>7.4</td>\n",
              "      <td>0.70</td>\n",
              "      <td>0.00</td>\n",
              "      <td>1.9</td>\n",
              "      <td>0.076</td>\n",
              "      <td>11.0</td>\n",
              "      <td>34.0</td>\n",
              "      <td>0.9978</td>\n",
              "      <td>3.51</td>\n",
              "      <td>0.56</td>\n",
              "      <td>9.4</td>\n",
              "      <td>5</td>\n",
              "    </tr>\n",
              "  </tbody>\n",
              "</table>\n",
              "</div>"
            ],
            "text/plain": [
              "   fixed acidity  volatile acidity  citric acid  ...  sulphates  alcohol  quality\n",
              "0            7.4              0.70         0.00  ...       0.56      9.4        5\n",
              "1            7.8              0.88         0.00  ...       0.68      9.8        5\n",
              "2            7.8              0.76         0.04  ...       0.65      9.8        5\n",
              "3           11.2              0.28         0.56  ...       0.58      9.8        6\n",
              "4            7.4              0.70         0.00  ...       0.56      9.4        5\n",
              "\n",
              "[5 rows x 12 columns]"
            ]
          },
          "metadata": {
            "tags": []
          },
          "execution_count": 5
        }
      ]
    },
    {
      "cell_type": "markdown",
      "metadata": {
        "id": "QTRUGcv8WpND"
      },
      "source": [
        "# <font color='Orange'>Find statistic elements for the continuous variables</font>\n",
        "Like mean, median,  standard deviation, minimum, maximum, quantile,geometric mean"
      ]
    },
    {
      "cell_type": "code",
      "metadata": {
        "id": "BIk_2AgxXKlD",
        "colab": {
          "base_uri": "https://localhost:8080/"
        },
        "outputId": "65164ef8-4ee7-4581-94eb-572d61a4d379"
      },
      "source": [
        "dataset.mean()"
      ],
      "execution_count": null,
      "outputs": [
        {
          "output_type": "execute_result",
          "data": {
            "text/plain": [
              "fixed acidity            8.319637\n",
              "volatile acidity         0.527821\n",
              "citric acid              0.270976\n",
              "residual sugar           2.538806\n",
              "chlorides                0.087467\n",
              "free sulfur dioxide     15.874922\n",
              "total sulfur dioxide    46.467792\n",
              "density                  0.996747\n",
              "pH                       3.311113\n",
              "sulphates                0.658149\n",
              "alcohol                 10.422983\n",
              "quality                  5.636023\n",
              "dtype: float64"
            ]
          },
          "metadata": {
            "tags": []
          },
          "execution_count": 6
        }
      ]
    },
    {
      "cell_type": "code",
      "metadata": {
        "id": "fx9gTygt7wc4",
        "colab": {
          "base_uri": "https://localhost:8080/"
        },
        "outputId": "bef1436f-16e2-41ec-b0b8-19501d89b321"
      },
      "source": [
        "dataset.median()"
      ],
      "execution_count": null,
      "outputs": [
        {
          "output_type": "execute_result",
          "data": {
            "text/plain": [
              "fixed acidity            7.90000\n",
              "volatile acidity         0.52000\n",
              "citric acid              0.26000\n",
              "residual sugar           2.20000\n",
              "chlorides                0.07900\n",
              "free sulfur dioxide     14.00000\n",
              "total sulfur dioxide    38.00000\n",
              "density                  0.99675\n",
              "pH                       3.31000\n",
              "sulphates                0.62000\n",
              "alcohol                 10.20000\n",
              "quality                  6.00000\n",
              "dtype: float64"
            ]
          },
          "metadata": {
            "tags": []
          },
          "execution_count": 7
        }
      ]
    },
    {
      "cell_type": "code",
      "metadata": {
        "id": "0sPuavID7w0-",
        "colab": {
          "base_uri": "https://localhost:8080/"
        },
        "outputId": "238cf30a-992e-4511-8f30-bbc28f209f14"
      },
      "source": [
        "dataset.std()"
      ],
      "execution_count": null,
      "outputs": [
        {
          "output_type": "execute_result",
          "data": {
            "text/plain": [
              "fixed acidity            1.741096\n",
              "volatile acidity         0.179060\n",
              "citric acid              0.194801\n",
              "residual sugar           1.409928\n",
              "chlorides                0.047065\n",
              "free sulfur dioxide     10.460157\n",
              "total sulfur dioxide    32.895324\n",
              "density                  0.001887\n",
              "pH                       0.154386\n",
              "sulphates                0.169507\n",
              "alcohol                  1.065668\n",
              "quality                  0.807569\n",
              "dtype: float64"
            ]
          },
          "metadata": {
            "tags": []
          },
          "execution_count": 8
        }
      ]
    },
    {
      "cell_type": "code",
      "metadata": {
        "id": "GbVLhzwB7w7L",
        "colab": {
          "base_uri": "https://localhost:8080/"
        },
        "outputId": "3d103efe-93dd-47d3-d6a2-3aded5440e52"
      },
      "source": [
        "dataset.min()"
      ],
      "execution_count": null,
      "outputs": [
        {
          "output_type": "execute_result",
          "data": {
            "text/plain": [
              "fixed acidity           4.60000\n",
              "volatile acidity        0.12000\n",
              "citric acid             0.00000\n",
              "residual sugar          0.90000\n",
              "chlorides               0.01200\n",
              "free sulfur dioxide     1.00000\n",
              "total sulfur dioxide    6.00000\n",
              "density                 0.99007\n",
              "pH                      2.74000\n",
              "sulphates               0.33000\n",
              "alcohol                 8.40000\n",
              "quality                 3.00000\n",
              "dtype: float64"
            ]
          },
          "metadata": {
            "tags": []
          },
          "execution_count": 9
        }
      ]
    },
    {
      "cell_type": "code",
      "metadata": {
        "id": "RcvHtPeA7wsj",
        "colab": {
          "base_uri": "https://localhost:8080/"
        },
        "outputId": "85ad1e36-af5e-4a2f-90b6-a113e77d4e21"
      },
      "source": [
        "dataset.max()"
      ],
      "execution_count": null,
      "outputs": [
        {
          "output_type": "execute_result",
          "data": {
            "text/plain": [
              "fixed acidity            15.90000\n",
              "volatile acidity          1.58000\n",
              "citric acid               1.00000\n",
              "residual sugar           15.50000\n",
              "chlorides                 0.61100\n",
              "free sulfur dioxide      72.00000\n",
              "total sulfur dioxide    289.00000\n",
              "density                   1.00369\n",
              "pH                        4.01000\n",
              "sulphates                 2.00000\n",
              "alcohol                  14.90000\n",
              "quality                   8.00000\n",
              "dtype: float64"
            ]
          },
          "metadata": {
            "tags": []
          },
          "execution_count": 10
        }
      ]
    },
    {
      "cell_type": "code",
      "metadata": {
        "id": "mgeowD9S7wTF",
        "colab": {
          "base_uri": "https://localhost:8080/",
          "height": 190
        },
        "outputId": "17e0deec-1e4b-4d7a-c668-87cd7f0acb18"
      },
      "source": [
        "dataset.quantile([.1, .25, .5, .75], axis=0)"
      ],
      "execution_count": null,
      "outputs": [
        {
          "output_type": "execute_result",
          "data": {
            "text/html": [
              "<div>\n",
              "<style scoped>\n",
              "    .dataframe tbody tr th:only-of-type {\n",
              "        vertical-align: middle;\n",
              "    }\n",
              "\n",
              "    .dataframe tbody tr th {\n",
              "        vertical-align: top;\n",
              "    }\n",
              "\n",
              "    .dataframe thead th {\n",
              "        text-align: right;\n",
              "    }\n",
              "</style>\n",
              "<table border=\"1\" class=\"dataframe\">\n",
              "  <thead>\n",
              "    <tr style=\"text-align: right;\">\n",
              "      <th></th>\n",
              "      <th>fixed acidity</th>\n",
              "      <th>volatile acidity</th>\n",
              "      <th>citric acid</th>\n",
              "      <th>residual sugar</th>\n",
              "      <th>chlorides</th>\n",
              "      <th>free sulfur dioxide</th>\n",
              "      <th>total sulfur dioxide</th>\n",
              "      <th>density</th>\n",
              "      <th>pH</th>\n",
              "      <th>sulphates</th>\n",
              "      <th>alcohol</th>\n",
              "      <th>quality</th>\n",
              "    </tr>\n",
              "  </thead>\n",
              "  <tbody>\n",
              "    <tr>\n",
              "      <th>0.10</th>\n",
              "      <td>6.5</td>\n",
              "      <td>0.31</td>\n",
              "      <td>0.01</td>\n",
              "      <td>1.7</td>\n",
              "      <td>0.060</td>\n",
              "      <td>5.0</td>\n",
              "      <td>14.0</td>\n",
              "      <td>0.994556</td>\n",
              "      <td>3.12</td>\n",
              "      <td>0.50</td>\n",
              "      <td>9.3</td>\n",
              "      <td>5.0</td>\n",
              "    </tr>\n",
              "    <tr>\n",
              "      <th>0.25</th>\n",
              "      <td>7.1</td>\n",
              "      <td>0.39</td>\n",
              "      <td>0.09</td>\n",
              "      <td>1.9</td>\n",
              "      <td>0.070</td>\n",
              "      <td>7.0</td>\n",
              "      <td>22.0</td>\n",
              "      <td>0.995600</td>\n",
              "      <td>3.21</td>\n",
              "      <td>0.55</td>\n",
              "      <td>9.5</td>\n",
              "      <td>5.0</td>\n",
              "    </tr>\n",
              "    <tr>\n",
              "      <th>0.50</th>\n",
              "      <td>7.9</td>\n",
              "      <td>0.52</td>\n",
              "      <td>0.26</td>\n",
              "      <td>2.2</td>\n",
              "      <td>0.079</td>\n",
              "      <td>14.0</td>\n",
              "      <td>38.0</td>\n",
              "      <td>0.996750</td>\n",
              "      <td>3.31</td>\n",
              "      <td>0.62</td>\n",
              "      <td>10.2</td>\n",
              "      <td>6.0</td>\n",
              "    </tr>\n",
              "    <tr>\n",
              "      <th>0.75</th>\n",
              "      <td>9.2</td>\n",
              "      <td>0.64</td>\n",
              "      <td>0.42</td>\n",
              "      <td>2.6</td>\n",
              "      <td>0.090</td>\n",
              "      <td>21.0</td>\n",
              "      <td>62.0</td>\n",
              "      <td>0.997835</td>\n",
              "      <td>3.40</td>\n",
              "      <td>0.73</td>\n",
              "      <td>11.1</td>\n",
              "      <td>6.0</td>\n",
              "    </tr>\n",
              "  </tbody>\n",
              "</table>\n",
              "</div>"
            ],
            "text/plain": [
              "      fixed acidity  volatile acidity  citric acid  ...  sulphates  alcohol  quality\n",
              "0.10            6.5              0.31         0.01  ...       0.50      9.3      5.0\n",
              "0.25            7.1              0.39         0.09  ...       0.55      9.5      5.0\n",
              "0.50            7.9              0.52         0.26  ...       0.62     10.2      6.0\n",
              "0.75            9.2              0.64         0.42  ...       0.73     11.1      6.0\n",
              "\n",
              "[4 rows x 12 columns]"
            ]
          },
          "metadata": {
            "tags": []
          },
          "execution_count": 11
        }
      ]
    },
    {
      "cell_type": "code",
      "metadata": {
        "id": "MSQ8T2IO8E6G",
        "colab": {
          "base_uri": "https://localhost:8080/"
        },
        "outputId": "71025ee2-87db-4281-88c4-21c0d558a240"
      },
      "source": [
        "from scipy import stats\n",
        "stats.gmean(dataset.iloc[:, 0:13],axis=0)\n"
      ],
      "execution_count": null,
      "outputs": [
        {
          "output_type": "execute_result",
          "data": {
            "text/plain": [
              "array([ 8.15169572,  0.49732248,  0.        ,  2.34018918,  0.0816379 ,\n",
              "       12.7576619 , 36.62464799,  0.99674489,  3.30752524,  0.64065788,\n",
              "       10.37107423,  5.57760205])"
            ]
          },
          "metadata": {
            "tags": []
          },
          "execution_count": 12
        }
      ]
    },
    {
      "cell_type": "markdown",
      "metadata": {
        "id": "ctJVLeFrXn6m"
      },
      "source": [
        "# <font color = 'Orange'>Find the frequencies for the categorical variables </font>"
      ]
    },
    {
      "cell_type": "markdown",
      "metadata": {
        "id": "oy_5heDO93Zk"
      },
      "source": [
        "Во овој датасет за Wine Quality, нема категориски променливи, односно сите 12 атрибути се континуирани, затоа ќе работам само со нив.\n",
        "\n",
        "Ги избрав атрибутите:\n",
        "Квалитет,  процент на алкохол во виното, pH вредност"
      ]
    },
    {
      "cell_type": "code",
      "metadata": {
        "id": "j8R54elBYNEv",
        "colab": {
          "base_uri": "https://localhost:8080/"
        },
        "outputId": "5d57bc91-87be-465d-8bcb-6448935d39df"
      },
      "source": [
        "dataset.quality.value_counts()"
      ],
      "execution_count": null,
      "outputs": [
        {
          "output_type": "execute_result",
          "data": {
            "text/plain": [
              "5    681\n",
              "6    638\n",
              "7    199\n",
              "4     53\n",
              "8     18\n",
              "3     10\n",
              "Name: quality, dtype: int64"
            ]
          },
          "metadata": {
            "tags": []
          },
          "execution_count": 13
        }
      ]
    },
    {
      "cell_type": "code",
      "metadata": {
        "id": "2Kv_gO1P-wbS",
        "colab": {
          "base_uri": "https://localhost:8080/"
        },
        "outputId": "d7bfa5e9-9ff2-48e6-8033-7de1160f7c7f"
      },
      "source": [
        "dataset.alcohol.value_counts()"
      ],
      "execution_count": null,
      "outputs": [
        {
          "output_type": "execute_result",
          "data": {
            "text/plain": [
              "9.500000     139\n",
              "9.400000     103\n",
              "9.800000      78\n",
              "9.200000      72\n",
              "10.500000     67\n",
              "            ... \n",
              "11.950000      1\n",
              "9.233333       1\n",
              "11.066667      1\n",
              "13.200000      1\n",
              "9.566667       1\n",
              "Name: alcohol, Length: 65, dtype: int64"
            ]
          },
          "metadata": {
            "tags": []
          },
          "execution_count": 14
        }
      ]
    },
    {
      "cell_type": "code",
      "metadata": {
        "id": "JggSqVzO-wSu",
        "colab": {
          "base_uri": "https://localhost:8080/"
        },
        "outputId": "c8ba33b9-8678-4b47-c3b4-a2a5cf93545e"
      },
      "source": [
        "dataset.pH.value_counts()"
      ],
      "execution_count": null,
      "outputs": [
        {
          "output_type": "execute_result",
          "data": {
            "text/plain": [
              "3.30    57\n",
              "3.36    56\n",
              "3.26    53\n",
              "3.38    48\n",
              "3.39    48\n",
              "        ..\n",
              "2.95     1\n",
              "3.74     1\n",
              "2.87     1\n",
              "2.90     1\n",
              "3.70     1\n",
              "Name: pH, Length: 89, dtype: int64"
            ]
          },
          "metadata": {
            "tags": []
          },
          "execution_count": 15
        }
      ]
    },
    {
      "cell_type": "markdown",
      "metadata": {
        "id": "bPra7luzYW4u"
      },
      "source": [
        "# <font color = 'Orange'>Data visualization </font>"
      ]
    },
    {
      "cell_type": "markdown",
      "metadata": {
        "id": "JoXx5JZ2YcPL"
      },
      "source": [
        "## <font color = 'Orange'>Find the distribution of given attributes</font>\n"
      ]
    },
    {
      "cell_type": "markdown",
      "metadata": {
        "id": "9ZpFTULIYtHi"
      },
      "source": [
        "Which of the attributes(columns) did you choose?\n"
      ]
    },
    {
      "cell_type": "markdown",
      "metadata": {
        "id": "A16oBAj3Y5we"
      },
      "source": [
        "Повторно ги избрав: Alcohol(процент на алкохол во виното), Quality, и pH вредност која опишува колку кисело е виното на скала од 0(многу кисело) до 14 (многу малку кисело), најчесто вината се наоѓаат на околу 3-4 на оваа скала."
      ]
    },
    {
      "cell_type": "markdown",
      "metadata": {
        "id": "2Yu87oMWZXUY"
      },
      "source": [
        "**Make the visualizations using histograms, bar charts, etc.**"
      ]
    },
    {
      "cell_type": "code",
      "metadata": {
        "id": "6o21Eji3Y8L8",
        "colab": {
          "base_uri": "https://localhost:8080/",
          "height": 282
        },
        "outputId": "ee200fa1-ea7a-47f5-8647-5e517cf1003a"
      },
      "source": [
        "dataset['alcohol'].hist()\n"
      ],
      "execution_count": null,
      "outputs": [
        {
          "output_type": "execute_result",
          "data": {
            "text/plain": [
              "<matplotlib.axes._subplots.AxesSubplot at 0x7f6e5caef908>"
            ]
          },
          "metadata": {
            "tags": []
          },
          "execution_count": 16
        },
        {
          "output_type": "display_data",
          "data": {
            "image/png": "[encoded data removed]",
            "text/plain": [
              "<Figure size 432x288 with 1 Axes>"
            ]
          },
          "metadata": {
            "tags": [],
            "needs_background": "light"
          }
        }
      ]
    },
    {
      "cell_type": "code",
      "metadata": {
        "id": "immx4PDo_z0s",
        "colab": {
          "base_uri": "https://localhost:8080/",
          "height": 282
        },
        "outputId": "3142d2e3-f906-41d4-9dc8-b154fa276aee"
      },
      "source": [
        "dataset['pH'].hist()"
      ],
      "execution_count": null,
      "outputs": [
        {
          "output_type": "execute_result",
          "data": {
            "text/plain": [
              "<matplotlib.axes._subplots.AxesSubplot at 0x7f6e5c9d7f98>"
            ]
          },
          "metadata": {
            "tags": []
          },
          "execution_count": 17
        },
        {
          "output_type": "display_data",
          "data": {
            "image/png": "[encoded data removed]",
            "text/plain": [
              "<Figure size 432x288 with 1 Axes>"
            ]
          },
          "metadata": {
            "tags": [],
            "needs_background": "light"
          }
        }
      ]
    },
    {
      "cell_type": "markdown",
      "metadata": {
        "id": "eek-iboEROLX"
      },
      "source": [
        "Личи на нормална распределба, а и впрочем така се докажало во реалноста, дека pH вредноста на сите вина се движи некаде од 3-4."
      ]
    },
    {
      "cell_type": "code",
      "metadata": {
        "id": "RFFcVwIZ_zse",
        "colab": {
          "base_uri": "https://localhost:8080/",
          "height": 282
        },
        "outputId": "28b7649e-21dd-42b4-e6fe-c033468f57c4"
      },
      "source": [
        "dataset['quality'].hist(bins=5)"
      ],
      "execution_count": null,
      "outputs": [
        {
          "output_type": "execute_result",
          "data": {
            "text/plain": [
              "<matplotlib.axes._subplots.AxesSubplot at 0x7f6e5c527940>"
            ]
          },
          "metadata": {
            "tags": []
          },
          "execution_count": 18
        },
        {
          "output_type": "display_data",
          "data": {
            "image/png": "[encoded data removed]",
            "text/plain": [
              "<Figure size 432x288 with 1 Axes>"
            ]
          },
          "metadata": {
            "tags": [],
            "needs_background": "light"
          }
        }
      ]
    },
    {
      "cell_type": "markdown",
      "metadata": {
        "id": "5VUHDG7aZTcq"
      },
      "source": [
        "Add as many codeboxes as you need"
      ]
    },
    {
      "cell_type": "markdown",
      "metadata": {
        "id": "pYA_LQcFZVEc"
      },
      "source": [
        "## <font color = 'Orange'>Show the trend over time</font>"
      ]
    },
    {
      "cell_type": "code",
      "metadata": {
        "id": "_Clooss7Zvdu",
        "colab": {
          "base_uri": "https://localhost:8080/",
          "height": 214
        },
        "outputId": "49c2df2b-b462-447c-d400-1aa70e588a92"
      },
      "source": [
        "%matplotlib inline\n",
        "import matplotlib.pyplot as plt\n",
        "\n",
        "fig = plt.figure()\n",
        "dataset.plot.scatter(x= 'alcohol', y = 'quality', alpha = 0.75,rot=0)\n"
      ],
      "execution_count": null,
      "outputs": [
        {
          "output_type": "error",
          "ename": "NameError",
          "evalue": "ignored",
          "traceback": [
            "\u001b[0;31m---------------------------------------------------------------------------\u001b[0m",
            "\u001b[0;31mNameError\u001b[0m                                 Traceback (most recent call last)",
            "\u001b[0;32m<ipython-input-1-31580164aec2>\u001b[0m in \u001b[0;36m<module>\u001b[0;34m()\u001b[0m\n\u001b[1;32m      3\u001b[0m \u001b[0;34m\u001b[0m\u001b[0m\n\u001b[1;32m      4\u001b[0m \u001b[0mfig\u001b[0m \u001b[0;34m=\u001b[0m \u001b[0mplt\u001b[0m\u001b[0;34m.\u001b[0m\u001b[0mfigure\u001b[0m\u001b[0;34m(\u001b[0m\u001b[0;34m)\u001b[0m\u001b[0;34m\u001b[0m\u001b[0;34m\u001b[0m\u001b[0m\n\u001b[0;32m----> 5\u001b[0;31m \u001b[0mdataset\u001b[0m\u001b[0;34m.\u001b[0m\u001b[0mplot\u001b[0m\u001b[0;34m.\u001b[0m\u001b[0mscatter\u001b[0m\u001b[0;34m(\u001b[0m\u001b[0mx\u001b[0m\u001b[0;34m=\u001b[0m \u001b[0;34m'alcohol'\u001b[0m\u001b[0;34m,\u001b[0m \u001b[0my\u001b[0m \u001b[0;34m=\u001b[0m \u001b[0;34m'quality'\u001b[0m\u001b[0;34m,\u001b[0m \u001b[0malpha\u001b[0m \u001b[0;34m=\u001b[0m \u001b[0;36m0.75\u001b[0m\u001b[0;34m,\u001b[0m\u001b[0mrot\u001b[0m\u001b[0;34m=\u001b[0m\u001b[0;36m0\u001b[0m\u001b[0;34m)\u001b[0m\u001b[0;34m\u001b[0m\u001b[0;34m\u001b[0m\u001b[0m\n\u001b[0m",
            "\u001b[0;31mNameError\u001b[0m: name 'dataset' is not defined"
          ]
        },
        {
          "output_type": "display_data",
          "data": {
            "text/plain": [
              "<Figure size 432x288 with 0 Axes>"
            ]
          },
          "metadata": {
            "tags": []
          }
        }
      ]
    },
    {
      "cell_type": "code",
      "metadata": {
        "id": "fw_KBWaFCde3",
        "colab": {
          "base_uri": "https://localhost:8080/",
          "height": 180
        },
        "outputId": "3f8e6300-7c9e-4ad6-d14f-e94cf5011277"
      },
      "source": [
        "\n",
        "dataset['alcohol'].plot.area()\n"
      ],
      "execution_count": null,
      "outputs": [
        {
          "output_type": "error",
          "ename": "NameError",
          "evalue": "ignored",
          "traceback": [
            "\u001b[0;31m---------------------------------------------------------------------------\u001b[0m",
            "\u001b[0;31mNameError\u001b[0m                                 Traceback (most recent call last)",
            "\u001b[0;32m<ipython-input-2-bca5d37a2bfd>\u001b[0m in \u001b[0;36m<module>\u001b[0;34m()\u001b[0m\n\u001b[1;32m      1\u001b[0m \u001b[0;34m\u001b[0m\u001b[0m\n\u001b[0;32m----> 2\u001b[0;31m \u001b[0mdataset\u001b[0m\u001b[0;34m[\u001b[0m\u001b[0;34m'alcohol'\u001b[0m\u001b[0;34m]\u001b[0m\u001b[0;34m.\u001b[0m\u001b[0mplot\u001b[0m\u001b[0;34m.\u001b[0m\u001b[0marea\u001b[0m\u001b[0;34m(\u001b[0m\u001b[0;34m)\u001b[0m\u001b[0;34m\u001b[0m\u001b[0;34m\u001b[0m\u001b[0m\n\u001b[0m",
            "\u001b[0;31mNameError\u001b[0m: name 'dataset' is not defined"
          ]
        }
      ]
    },
    {
      "cell_type": "code",
      "metadata": {
        "id": "5p5yLcKqIGgS"
      },
      "source": [
        "dataset['quality'].plot.area()"
      ],
      "execution_count": null,
      "outputs": []
    },
    {
      "cell_type": "code",
      "metadata": {
        "id": "OebIXBkTCdjS"
      },
      "source": [
        "dataset['pH'].plot.area()"
      ],
      "execution_count": null,
      "outputs": []
    },
    {
      "cell_type": "code",
      "metadata": {
        "id": "2QOXyvakCdEs"
      },
      "source": [
        "dataset.plot.area()"
      ],
      "execution_count": null,
      "outputs": []
    },
    {
      "cell_type": "markdown",
      "metadata": {
        "id": "ZF2TxRSgZzn9"
      },
      "source": [
        "## <font color = 'Orange'>Visualize the relationship between the attributes</font>\n"
      ]
    },
    {
      "cell_type": "markdown",
      "metadata": {
        "id": "z1q8AapdaKPB"
      },
      "source": [
        "## <font color = 'Orange'>Make comparison of the columns</font>\n",
        "\n",
        "Using multiple histograms, box-plots, etc."
      ]
    },
    {
      "cell_type": "code",
      "metadata": {
        "id": "yT1DyKwVFHLg",
        "colab": {
          "base_uri": "https://localhost:8080/",
          "height": 265
        },
        "outputId": "3e2f69f6-8e4a-4428-da4d-d1a6c779d545"
      },
      "source": [
        "boxplot = dataset.boxplot(column=['quality', 'alcohol', 'pH']) "
      ],
      "execution_count": null,
      "outputs": [
        {
          "output_type": "display_data",
          "data": {
            "image/png": "[encoded data removed]",
            "text/plain": [
              "<Figure size 432x288 with 1 Axes>"
            ]
          },
          "metadata": {
            "tags": [],
            "needs_background": "light"
          }
        }
      ]
    },
    {
      "cell_type": "code",
      "metadata": {
        "id": "xhJt6kOVFPah",
        "colab": {
          "base_uri": "https://localhost:8080/",
          "height": 588
        },
        "outputId": "2e3aa57d-4427-47ea-ff2c-dbe8fd94c91f"
      },
      "source": [
        "%matplotlib inline\n",
        "import matplotlib.pyplot as plt\n",
        "plt.figure(figsize=[10,10])\n",
        "plt.plot(dataset.groupby('quality').pH.sum(),  '-ob', linewidth='2', alpha = 0.75)\n",
        "plt.xticks(rotation=90)\n",
        "plt.show()"
      ],
      "execution_count": null,
      "outputs": [
        {
          "output_type": "display_data",
          "data": {
            "image/png": "[encoded data removed]",
            "text/plain": [
              "<Figure size 720x720 with 1 Axes>"
            ]
          },
          "metadata": {
            "tags": [],
            "needs_background": "light"
          }
        }
      ]
    },
    {
      "cell_type": "code",
      "metadata": {
        "id": "rpEFk2c9FsEG",
        "colab": {
          "base_uri": "https://localhost:8080/",
          "height": 279
        },
        "outputId": "00fa9415-697d-4bc3-9841-ca7a9532dc78"
      },
      "source": [
        "import seaborn as sns\n",
        "first=sns.distplot(dataset['quality'], bins=10, kde=True, label='Quality')\n",
        "second=sns.distplot(dataset['pH'], bins=10, kde=True, label = 'pH Value')\n",
        "second=sns.distplot(dataset['alcohol'], bins=10, kde=True, label = 'alcohol')"
      ],
      "execution_count": null,
      "outputs": [
        {
          "output_type": "display_data",
          "data": {
            "image/png": "[encoded data removed]",
            "text/plain": [
              "<Figure size 432x288 with 1 Axes>"
            ]
          },
          "metadata": {
            "tags": [],
            "needs_background": "light"
          }
        }
      ]
    },
    {
      "cell_type": "markdown",
      "metadata": {
        "id": "3ydaqRRkal58"
      },
      "source": [
        "# <font color = 'Orange'>Complex visualizations</font>\n",
        "After you obtained the relations and the differences between the attributes in your Dataset. It's time to descrabe what of the attributes will you group and make some sence of the whole set of numbers and categories that you had at the begining."
      ]
    },
    {
      "cell_type": "markdown",
      "metadata": {
        "id": "UrwUDRuHbW7u"
      },
      "source": [
        "Describe the visualizations that you are going to make:"
      ]
    },
    {
      "cell_type": "markdown",
      "metadata": {
        "id": "K3Ktc09kbeI9"
      },
      "source": [
        "1. Аlcohol, pH, Quality- во која мера процентот на алкохол и киселоста на виното влијае врз неговиот квалитет\n"
      ]
    },
    {
      "cell_type": "markdown",
      "metadata": {
        "id": "gPvmMGtJciW1"
      },
      "source": [
        "**Use *plotly.express* for visualization the chosen data**"
      ]
    },
    {
      "cell_type": "code",
      "metadata": {
        "id": "fi40kowzalP1",
        "colab": {
          "base_uri": "https://localhost:8080/",
          "height": 419
        },
        "outputId": "4a584807-cb24-47e5-ec29-ed76e64224ca"
      },
      "source": [
        " ds= dataset.groupby(['alcohol', 'pH'])['quality'].count().reset_index()\n",
        "ds.columns = ['alcohol', 'pH', 'quality']\n",
        "ds"
      ],
      "execution_count": null,
      "outputs": [
        {
          "output_type": "execute_result",
          "data": {
            "text/html": [
              "<div>\n",
              "<style scoped>\n",
              "    .dataframe tbody tr th:only-of-type {\n",
              "        vertical-align: middle;\n",
              "    }\n",
              "\n",
              "    .dataframe tbody tr th {\n",
              "        vertical-align: top;\n",
              "    }\n",
              "\n",
              "    .dataframe thead th {\n",
              "        text-align: right;\n",
              "    }\n",
              "</style>\n",
              "<table border=\"1\" class=\"dataframe\">\n",
              "  <thead>\n",
              "    <tr style=\"text-align: right;\">\n",
              "      <th></th>\n",
              "      <th>alcohol</th>\n",
              "      <th>pH</th>\n",
              "      <th>quality</th>\n",
              "    </tr>\n",
              "  </thead>\n",
              "  <tbody>\n",
              "    <tr>\n",
              "      <th>0</th>\n",
              "      <td>8.4</td>\n",
              "      <td>2.86</td>\n",
              "      <td>1</td>\n",
              "    </tr>\n",
              "    <tr>\n",
              "      <th>1</th>\n",
              "      <td>8.4</td>\n",
              "      <td>3.16</td>\n",
              "      <td>1</td>\n",
              "    </tr>\n",
              "    <tr>\n",
              "      <th>2</th>\n",
              "      <td>8.5</td>\n",
              "      <td>3.15</td>\n",
              "      <td>1</td>\n",
              "    </tr>\n",
              "    <tr>\n",
              "      <th>3</th>\n",
              "      <td>8.7</td>\n",
              "      <td>3.32</td>\n",
              "      <td>1</td>\n",
              "    </tr>\n",
              "    <tr>\n",
              "      <th>4</th>\n",
              "      <td>8.7</td>\n",
              "      <td>3.34</td>\n",
              "      <td>1</td>\n",
              "    </tr>\n",
              "    <tr>\n",
              "      <th>...</th>\n",
              "      <td>...</td>\n",
              "      <td>...</td>\n",
              "      <td>...</td>\n",
              "    </tr>\n",
              "    <tr>\n",
              "      <th>917</th>\n",
              "      <td>14.0</td>\n",
              "      <td>3.68</td>\n",
              "      <td>2</td>\n",
              "    </tr>\n",
              "    <tr>\n",
              "      <th>918</th>\n",
              "      <td>14.0</td>\n",
              "      <td>3.70</td>\n",
              "      <td>1</td>\n",
              "    </tr>\n",
              "    <tr>\n",
              "      <th>919</th>\n",
              "      <td>14.0</td>\n",
              "      <td>3.71</td>\n",
              "      <td>1</td>\n",
              "    </tr>\n",
              "    <tr>\n",
              "      <th>920</th>\n",
              "      <td>14.0</td>\n",
              "      <td>3.72</td>\n",
              "      <td>1</td>\n",
              "    </tr>\n",
              "    <tr>\n",
              "      <th>921</th>\n",
              "      <td>14.9</td>\n",
              "      <td>2.98</td>\n",
              "      <td>1</td>\n",
              "    </tr>\n",
              "  </tbody>\n",
              "</table>\n",
              "<p>922 rows × 3 columns</p>\n",
              "</div>"
            ],
            "text/plain": [
              "     alcohol    pH  quality\n",
              "0        8.4  2.86        1\n",
              "1        8.4  3.16        1\n",
              "2        8.5  3.15        1\n",
              "3        8.7  3.32        1\n",
              "4        8.7  3.34        1\n",
              "..       ...   ...      ...\n",
              "917     14.0  3.68        2\n",
              "918     14.0  3.70        1\n",
              "919     14.0  3.71        1\n",
              "920     14.0  3.72        1\n",
              "921     14.9  2.98        1\n",
              "\n",
              "[922 rows x 3 columns]"
            ]
          },
          "metadata": {
            "tags": []
          },
          "execution_count": 27
        }
      ]
    },
    {
      "cell_type": "code",
      "metadata": {
        "id": "8WN0GrLOHpNn",
        "colab": {
          "base_uri": "https://localhost:8080/",
          "height": 717
        },
        "outputId": "81b8b415-8a66-46b5-9fb3-62a99e697b98"
      },
      "source": [
        "import plotly.express as px\n",
        "\n",
        "fig = px.bar(\n",
        "    ds,\n",
        "    x = 'alcohol',\n",
        "    y = 'pH',\n",
        "    color = 'quality',\n",
        "    barmode = 'group',\n",
        "    orientation = 'v',\n",
        "    width=800,\n",
        "    height=700\n",
        ")\n",
        "fig.show()"
      ],
      "execution_count": null,
      "outputs": [
        {
          "output_type": "display_data",
          "data": {
            "text/html": [
              "<html>\n",
              "<head><meta charset=\"utf-8\" /></head>\n",
              "<body>\n",
              "    <div>\n",
              "            <script src=\"https://cdnjs.cloudflare.com/ajax/libs/mathjax/2.7.5/MathJax.js?config=TeX-AMS-MML_SVG\"></script><script type=\"text/javascript\">if (window.MathJax) {MathJax.Hub.Config({SVG: {font: \"STIX-Web\"}});}</script>\n",
              "                <script type=\"text/javascript\">window.PlotlyConfig = {MathJaxConfig: 'local'};</script>\n",
              "        <script src=\"https://cdn.plot.ly/plotly-latest.min.js\"></script>    \n",
              "            <div id=\"1e14ea62-e6e2-47ef-ab65-caeff6d67047\" class=\"plotly-graph-div\" style=\"height:700px; width:800px;\"></div>\n",
              "            <script type=\"text/javascript\">\n",
              "                \n",
              "                    window.PLOTLYENV=window.PLOTLYENV || {};\n",
              "                    \n",
              "                if (document.getElementById(\"1e14ea62-e6e2-47ef-ab65-caeff6d67047\")) {\n",
              "                    Plotly.newPlot(\n",
              "                        '1e14ea62-e6e2-47ef-ab65-caeff6d67047',\n",
              "                        [{\"alignmentgroup\": \"True\", \"hoverlabel\": {\"namelength\": 0}, \"hovertemplate\": \"alcohol=%{x}<br>pH=%{y}<br>quality=%{marker.color}\", \"legendgroup\": \"\", \"marker\": {\"color\": [1, 1, 1, 1, 1, 2, 1, 1, 1, 2, 1, 2, 1, 1, 4, 1, 4, 4, 1, 1, 2, 2, 1, 1, 1, 1, 1, 1, 1, 2, 1, 2, 2, 1, 2, 6, 1, 1, 2, 1, 2, 1, 1, 1, 1, 2, 1, 3, 3, 1, 1, 3, 3, 3, 5, 1, 1, 3, 2, 2, 6, 2, 2, 6, 1, 1, 1, 1, 2, 1, 1, 1, 1, 1, 2, 1, 1, 2, 1, 2, 4, 2, 2, 2, 4, 1, 3, 2, 1, 2, 4, 6, 1, 4, 1, 1, 2, 2, 1, 1, 1, 1, 2, 1, 1, 1, 1, 1, 1, 1, 2, 1, 2, 1, 1, 3, 3, 5, 2, 1, 1, 4, 3, 3, 1, 3, 3, 2, 4, 3, 1, 4, 3, 2, 1, 5, 2, 4, 3, 1, 6, 2, 2, 1, 4, 3, 2, 3, 1, 2, 1, 1, 1, 1, 2, 1, 1, 2, 1, 1, 2, 3, 4, 8, 6, 5, 2, 6, 2, 2, 3, 1, 6, 4, 3, 4, 5, 5, 4, 1, 6, 1, 6, 2, 4, 2, 4, 1, 1, 4, 7, 4, 1, 2, 3, 2, 1, 2, 1, 2, 1, 1, 1, 1, 1, 1, 1, 1, 4, 3, 2, 1, 1, 2, 5, 1, 3, 5, 1, 3, 1, 2, 2, 2, 4, 1, 1, 1, 1, 1, 1, 1, 1, 1, 1, 1, 1, 1, 1, 1, 2, 2, 3, 1, 4, 1, 2, 1, 2, 2, 3, 1, 1, 2, 2, 2, 2, 1, 2, 2, 2, 1, 2, 2, 1, 1, 1, 1, 1, 1, 1, 5, 6, 3, 3, 2, 2, 4, 1, 3, 4, 4, 3, 1, 2, 1, 3, 3, 3, 1, 1, 3, 2, 1, 1, 1, 1, 3, 1, 2, 2, 2, 1, 2, 1, 1, 1, 3, 1, 4, 1, 1, 3, 3, 1, 2, 1, 2, 3, 2, 1, 1, 4, 1, 1, 1, 1, 1, 2, 1, 1, 1, 2, 2, 1, 2, 2, 1, 3, 3, 2, 5, 3, 2, 2, 1, 2, 2, 2, 1, 1, 1, 3, 3, 2, 1, 4, 1, 2, 3, 1, 1, 1, 1, 1, 1, 1, 2, 1, 1, 1, 1, 2, 1, 2, 1, 1, 3, 6, 2, 2, 3, 5, 2, 3, 1, 3, 2, 1, 1, 1, 1, 1, 1, 2, 1, 1, 1, 2, 1, 2, 3, 3, 1, 3, 1, 3, 2, 1, 1, 2, 2, 2, 4, 1, 1, 1, 1, 1, 1, 1, 1, 2, 1, 3, 1, 1, 1, 1, 3, 1, 4, 5, 2, 3, 1, 1, 1, 1, 3, 1, 2, 1, 2, 1, 1, 2, 1, 1, 3, 2, 1, 3, 1, 2, 2, 4, 1, 1, 2, 3, 1, 1, 1, 2, 4, 1, 1, 2, 1, 1, 1, 3, 2, 6, 3, 4, 3, 6, 3, 3, 2, 5, 1, 1, 2, 1, 2, 1, 2, 1, 1, 1, 1, 1, 1, 1, 1, 1, 3, 1, 1, 2, 1, 1, 6, 3, 1, 1, 1, 1, 1, 1, 1, 2, 1, 3, 1, 4, 1, 1, 2, 1, 1, 1, 1, 2, 2, 1, 1, 1, 2, 1, 1, 1, 1, 2, 1, 4, 1, 1, 2, 1, 2, 1, 1, 2, 2, 2, 3, 2, 1, 1, 1, 1, 2, 2, 2, 1, 1, 2, 1, 3, 1, 3, 2, 1, 1, 1, 3, 3, 4, 1, 2, 5, 2, 1, 3, 2, 2, 1, 1, 1, 1, 1, 1, 5, 4, 1, 2, 5, 1, 2, 1, 3, 1, 1, 1, 3, 1, 1, 3, 5, 1, 3, 2, 2, 1, 1, 1, 1, 2, 1, 1, 3, 2, 2, 1, 2, 1, 1, 2, 2, 1, 2, 1, 1, 1, 1, 1, 2, 1, 1, 1, 1, 2, 2, 3, 2, 2, 1, 1, 2, 1, 1, 1, 1, 1, 3, 1, 1, 2, 1, 1, 1, 1, 1, 1, 1, 1, 1, 1, 2, 3, 1, 2, 1, 1, 1, 2, 3, 1, 1, 2, 1, 2, 1, 1, 1, 2, 1, 1, 1, 2, 1, 1, 2, 1, 2, 1, 2, 1, 1, 1, 2, 2, 1, 1, 1, 1, 1, 1, 1, 1, 2, 1, 1, 1, 2, 3, 2, 2, 1, 2, 2, 1, 2, 3, 1, 1, 1, 1, 1, 1, 1, 1, 1, 1, 1, 1, 1, 1, 1, 1, 1, 2, 1, 1, 1, 2, 1, 1, 1, 6, 2, 1, 1, 2, 1, 1, 1, 2, 1, 1, 1, 2, 1, 1, 1, 1, 1, 1, 2, 2, 1, 1, 1, 1, 1, 3, 2, 1, 2, 1, 1, 1, 1, 2, 2, 1, 1, 1, 2, 1, 1, 3, 1, 1, 1, 1, 1, 1, 1, 2, 3, 1, 1, 4, 1, 1, 1, 2, 2, 1, 1, 1, 2, 1, 1, 1, 2, 1, 1, 1, 1, 1, 1, 1, 1, 1, 1, 1, 1, 1, 1, 1, 1, 2, 1, 1, 2, 1, 1, 2, 1, 1, 1, 2, 1, 1, 1, 1, 1, 1, 1, 1, 1, 1, 1, 1, 1, 1, 1, 1, 2, 1, 1, 2, 1, 1, 1, 1, 2, 1, 2, 1, 1, 1, 1, 1, 1, 2, 2, 1, 1, 1, 1, 1, 1, 1, 1, 1, 3, 1, 2, 2, 1, 1, 2, 1, 2, 1, 1, 1, 3, 1, 1, 2, 1, 2, 1, 1, 1, 1, 1, 1, 1, 1, 1, 1, 1, 1, 1, 1, 1, 1, 1, 2, 1, 1, 1, 1], \"coloraxis\": \"coloraxis\"}, \"name\": \"\", \"offsetgroup\": \"\", \"orientation\": \"v\", \"showlegend\": false, \"textposition\": \"auto\", \"type\": \"bar\", \"x\": [8.4, 8.4, 8.5, 8.7, 8.7, 8.8, 9.0, 9.0, 9.0, 9.0, 9.0, 9.0, 9.0, 9.0, 9.0, 9.0, 9.0, 9.0, 9.0, 9.0, 9.0, 9.0, 9.0, 9.05, 9.1, 9.1, 9.1, 9.1, 9.1, 9.1, 9.1, 9.1, 9.1, 9.1, 9.1, 9.1, 9.1, 9.1, 9.2, 9.2, 9.2, 9.2, 9.2, 9.2, 9.2, 9.2, 9.2, 9.2, 9.2, 9.2, 9.2, 9.2, 9.2, 9.2, 9.2, 9.2, 9.2, 9.2, 9.2, 9.2, 9.2, 9.2, 9.2, 9.2, 9.2, 9.2, 9.2, 9.2, 9.2, 9.2, 9.2, 9.2, 9.2, 9.2, 9.2, 9.23333333333333, 9.25, 9.3, 9.3, 9.3, 9.3, 9.3, 9.3, 9.3, 9.3, 9.3, 9.3, 9.3, 9.3, 9.3, 9.3, 9.3, 9.3, 9.3, 9.3, 9.3, 9.3, 9.3, 9.3, 9.3, 9.3, 9.3, 9.3, 9.3, 9.3, 9.3, 9.3, 9.4, 9.4, 9.4, 9.4, 9.4, 9.4, 9.4, 9.4, 9.4, 9.4, 9.4, 9.4, 9.4, 9.4, 9.4, 9.4, 9.4, 9.4, 9.4, 9.4, 9.4, 9.4, 9.4, 9.4, 9.4, 9.4, 9.4, 9.4, 9.4, 9.4, 9.4, 9.4, 9.4, 9.4, 9.4, 9.4, 9.4, 9.4, 9.4, 9.4, 9.4, 9.4, 9.4, 9.5, 9.5, 9.5, 9.5, 9.5, 9.5, 9.5, 9.5, 9.5, 9.5, 9.5, 9.5, 9.5, 9.5, 9.5, 9.5, 9.5, 9.5, 9.5, 9.5, 9.5, 9.5, 9.5, 9.5, 9.5, 9.5, 9.5, 9.5, 9.5, 9.5, 9.5, 9.5, 9.5, 9.5, 9.5, 9.5, 9.5, 9.5, 9.5, 9.5, 9.5, 9.5, 9.5, 9.5, 9.5, 9.5, 9.5, 9.55, 9.56666666666667, 9.6, 9.6, 9.6, 9.6, 9.6, 9.6, 9.6, 9.6, 9.6, 9.6, 9.6, 9.6, 9.6, 9.6, 9.6, 9.6, 9.6, 9.6, 9.6, 9.6, 9.6, 9.6, 9.6, 9.6, 9.6, 9.6, 9.6, 9.6, 9.6, 9.6, 9.6, 9.6, 9.6, 9.7, 9.7, 9.7, 9.7, 9.7, 9.7, 9.7, 9.7, 9.7, 9.7, 9.7, 9.7, 9.7, 9.7, 9.7, 9.7, 9.7, 9.7, 9.7, 9.7, 9.7, 9.7, 9.7, 9.7, 9.7, 9.7, 9.7, 9.7, 9.7, 9.7, 9.7, 9.7, 9.7, 9.8, 9.8, 9.8, 9.8, 9.8, 9.8, 9.8, 9.8, 9.8, 9.8, 9.8, 9.8, 9.8, 9.8, 9.8, 9.8, 9.8, 9.8, 9.8, 9.8, 9.8, 9.8, 9.8, 9.8, 9.8, 9.8, 9.8, 9.8, 9.8, 9.8, 9.8, 9.8, 9.8, 9.8, 9.8, 9.8, 9.9, 9.9, 9.9, 9.9, 9.9, 9.9, 9.9, 9.9, 9.9, 9.9, 9.9, 9.9, 9.9, 9.9, 9.9, 9.9, 9.9, 9.9, 9.9, 9.9, 9.9, 9.9, 9.9, 9.9, 9.9, 9.9, 9.9, 9.9, 9.9, 9.95, 10.0, 10.0, 10.0, 10.0, 10.0, 10.0, 10.0, 10.0, 10.0, 10.0, 10.0, 10.0, 10.0, 10.0, 10.0, 10.0, 10.0, 10.0, 10.0, 10.0, 10.0, 10.0, 10.0, 10.0, 10.0, 10.0, 10.0, 10.0, 10.0, 10.0, 10.0, 10.0, 10.0, 10.0, 10.0, 10.0, 10.0333333333333, 10.1, 10.1, 10.1, 10.1, 10.1, 10.1, 10.1, 10.1, 10.1, 10.1, 10.1, 10.1, 10.1, 10.1, 10.1, 10.1, 10.1, 10.1, 10.1, 10.1, 10.1, 10.1, 10.1, 10.1, 10.2, 10.2, 10.2, 10.2, 10.2, 10.2, 10.2, 10.2, 10.2, 10.2, 10.2, 10.2, 10.2, 10.2, 10.2, 10.2, 10.2, 10.2, 10.2, 10.2, 10.2, 10.2, 10.2, 10.2, 10.2, 10.2, 10.2, 10.2, 10.3, 10.3, 10.3, 10.3, 10.3, 10.3, 10.3, 10.3, 10.3, 10.3, 10.3, 10.3, 10.3, 10.3, 10.3, 10.3, 10.3, 10.3, 10.4, 10.4, 10.4, 10.4, 10.4, 10.4, 10.4, 10.4, 10.4, 10.4, 10.4, 10.4, 10.4, 10.4, 10.4, 10.4, 10.4, 10.4, 10.4, 10.4, 10.4, 10.4, 10.4, 10.5, 10.5, 10.5, 10.5, 10.5, 10.5, 10.5, 10.5, 10.5, 10.5, 10.5, 10.5, 10.5, 10.5, 10.5, 10.5, 10.5, 10.5, 10.5, 10.5, 10.5, 10.5, 10.5, 10.5, 10.5, 10.5, 10.5, 10.5, 10.5, 10.5, 10.55, 10.55, 10.6, 10.6, 10.6, 10.6, 10.6, 10.6, 10.6, 10.6, 10.6, 10.6, 10.6, 10.6, 10.6, 10.6, 10.6, 10.6, 10.6, 10.6, 10.7, 10.7, 10.7, 10.7, 10.7, 10.7, 10.7, 10.7, 10.7, 10.7, 10.7, 10.7, 10.7, 10.7, 10.7, 10.7, 10.7, 10.7, 10.75, 10.8, 10.8, 10.8, 10.8, 10.8, 10.8, 10.8, 10.8, 10.8, 10.8, 10.8, 10.8, 10.8, 10.8, 10.8, 10.8, 10.8, 10.8, 10.8, 10.8, 10.8, 10.8, 10.8, 10.8, 10.8, 10.8, 10.8, 10.9, 10.9, 10.9, 10.9, 10.9, 10.9, 10.9, 10.9, 10.9, 10.9, 10.9, 10.9, 10.9, 10.9, 10.9, 10.9, 10.9, 10.9, 10.9, 10.9, 10.9, 10.9, 10.9, 10.9, 10.9, 11.0, 11.0, 11.0, 11.0, 11.0, 11.0, 11.0, 11.0, 11.0, 11.0, 11.0, 11.0, 11.0, 11.0, 11.0, 11.0, 11.0, 11.0, 11.0, 11.0, 11.0, 11.0, 11.0, 11.0, 11.0, 11.0, 11.0, 11.0, 11.0, 11.0, 11.0, 11.066666666666698, 11.1, 11.1, 11.1, 11.1, 11.1, 11.1, 11.1, 11.1, 11.1, 11.1, 11.1, 11.1, 11.1, 11.1, 11.1, 11.1, 11.1, 11.1, 11.2, 11.2, 11.2, 11.2, 11.2, 11.2, 11.2, 11.2, 11.2, 11.2, 11.2, 11.2, 11.2, 11.2, 11.2, 11.2, 11.2, 11.2, 11.2, 11.2, 11.2, 11.2, 11.2, 11.2, 11.2, 11.2, 11.3, 11.3, 11.3, 11.3, 11.3, 11.3, 11.3, 11.3, 11.3, 11.3, 11.3, 11.3, 11.3, 11.3, 11.3, 11.3, 11.3, 11.3, 11.3, 11.3, 11.3, 11.3, 11.4, 11.4, 11.4, 11.4, 11.4, 11.4, 11.4, 11.4, 11.4, 11.4, 11.4, 11.4, 11.4, 11.4, 11.4, 11.4, 11.4, 11.4, 11.4, 11.4, 11.4, 11.4, 11.4, 11.4, 11.4, 11.5, 11.5, 11.5, 11.5, 11.5, 11.5, 11.5, 11.5, 11.5, 11.5, 11.5, 11.5, 11.5, 11.5, 11.5, 11.5, 11.5, 11.5, 11.5, 11.5, 11.6, 11.6, 11.6, 11.6, 11.6, 11.6, 11.6, 11.6, 11.6, 11.6, 11.6, 11.6, 11.6, 11.6, 11.7, 11.7, 11.7, 11.7, 11.7, 11.7, 11.7, 11.7, 11.7, 11.7, 11.7, 11.7, 11.7, 11.7, 11.8, 11.8, 11.8, 11.8, 11.8, 11.8, 11.8, 11.8, 11.8, 11.8, 11.8, 11.8, 11.8, 11.8, 11.8, 11.8, 11.8, 11.8, 11.8, 11.8, 11.8, 11.8, 11.9, 11.9, 11.9, 11.9, 11.9, 11.9, 11.9, 11.9, 11.9, 11.9, 11.9, 11.9, 11.9, 11.9, 11.9, 11.95, 12.0, 12.0, 12.0, 12.0, 12.0, 12.0, 12.0, 12.0, 12.0, 12.0, 12.0, 12.0, 12.0, 12.1, 12.1, 12.1, 12.1, 12.1, 12.1, 12.1, 12.1, 12.1, 12.1, 12.1, 12.2, 12.2, 12.2, 12.2, 12.2, 12.2, 12.2, 12.2, 12.2, 12.2, 12.2, 12.2, 12.3, 12.3, 12.3, 12.3, 12.3, 12.3, 12.3, 12.3, 12.3, 12.4, 12.4, 12.4, 12.4, 12.4, 12.4, 12.4, 12.4, 12.4, 12.4, 12.4, 12.4, 12.5, 12.5, 12.5, 12.5, 12.5, 12.5, 12.5, 12.5, 12.5, 12.5, 12.5, 12.5, 12.5, 12.5, 12.5, 12.5, 12.5, 12.6, 12.6, 12.6, 12.6, 12.6, 12.6, 12.7, 12.7, 12.7, 12.7, 12.7, 12.7, 12.7, 12.8, 12.8, 12.8, 12.8, 12.8, 12.8, 12.8, 12.8, 12.8, 12.8, 12.8, 12.8, 12.9, 12.9, 12.9, 12.9, 12.9, 12.9, 13.0, 13.0, 13.0, 13.0, 13.1, 13.1, 13.2, 13.3, 13.3, 13.3, 13.4, 13.4, 13.4, 13.5, 13.566666666666698, 13.6, 13.6, 13.6, 13.6, 14.0, 14.0, 14.0, 14.0, 14.0, 14.0, 14.9], \"xaxis\": \"x\", \"y\": [2.86, 3.16, 3.15, 3.32, 3.34, 3.16, 3.03, 3.06, 3.08, 3.1, 3.16, 3.18, 3.25, 3.29, 3.3, 3.31, 3.32, 3.37, 3.38, 3.39, 3.41, 3.43, 3.48, 3.39, 2.9, 3.06, 3.08, 3.09, 3.12, 3.13, 3.14, 3.15, 3.16, 3.17, 3.26, 3.36, 3.44, 3.48, 2.94, 2.98, 3.0, 3.02, 3.03, 3.04, 3.05, 3.07, 3.08, 3.1, 3.12, 3.13, 3.15, 3.16, 3.17, 3.19, 3.2, 3.22, 3.23, 3.25, 3.26, 3.28, 3.29, 3.31, 3.32, 3.34, 3.35, 3.37, 3.38, 3.39, 3.41, 3.42, 3.43, 3.44, 3.46, 3.48, 3.49, 3.53, 3.53, 3.0, 3.02, 3.04, 3.08, 3.09, 3.1, 3.11, 3.12, 3.2, 3.21, 3.22, 3.23, 3.24, 3.26, 3.27, 3.28, 3.29, 3.3, 3.31, 3.32, 3.34, 3.35, 3.39, 3.44, 3.46, 3.48, 3.5, 3.52, 3.54, 3.59, 2.74, 2.98, 3.01, 3.04, 3.06, 3.09, 3.1, 3.13, 3.14, 3.15, 3.16, 3.17, 3.18, 3.19, 3.2, 3.21, 3.22, 3.23, 3.24, 3.25, 3.26, 3.27, 3.28, 3.29, 3.3, 3.31, 3.32, 3.33, 3.34, 3.35, 3.36, 3.37, 3.38, 3.39, 3.4, 3.41, 3.42, 3.44, 3.45, 3.47, 3.51, 3.56, 3.69, 2.94, 3.0, 3.02, 3.04, 3.05, 3.08, 3.12, 3.13, 3.14, 3.15, 3.16, 3.17, 3.18, 3.19, 3.2, 3.21, 3.22, 3.23, 3.24, 3.25, 3.26, 3.27, 3.28, 3.29, 3.3, 3.31, 3.32, 3.33, 3.34, 3.35, 3.36, 3.37, 3.38, 3.39, 3.4, 3.41, 3.42, 3.43, 3.44, 3.45, 3.46, 3.47, 3.48, 3.51, 3.52, 3.53, 3.55, 3.31, 3.16, 2.89, 3.04, 3.05, 3.1, 3.12, 3.13, 3.16, 3.17, 3.18, 3.19, 3.2, 3.22, 3.23, 3.24, 3.25, 3.26, 3.27, 3.28, 3.3, 3.31, 3.32, 3.34, 3.36, 3.37, 3.38, 3.39, 3.4, 3.42, 3.47, 3.48, 3.52, 3.67, 3.68, 2.88, 3.03, 3.09, 3.1, 3.14, 3.16, 3.2, 3.22, 3.23, 3.24, 3.26, 3.27, 3.28, 3.29, 3.31, 3.32, 3.33, 3.34, 3.35, 3.36, 3.37, 3.39, 3.4, 3.41, 3.43, 3.47, 3.48, 3.5, 3.51, 3.52, 3.53, 3.55, 3.67, 2.88, 2.93, 3.03, 3.08, 3.11, 3.14, 3.15, 3.16, 3.17, 3.2, 3.24, 3.25, 3.26, 3.27, 3.28, 3.29, 3.3, 3.31, 3.32, 3.33, 3.35, 3.38, 3.39, 3.4, 3.44, 3.45, 3.48, 3.5, 3.53, 3.55, 3.57, 3.58, 3.59, 3.6, 3.61, 3.66, 2.93, 2.98, 3.02, 3.03, 3.12, 3.14, 3.15, 3.16, 3.21, 3.22, 3.24, 3.25, 3.26, 3.27, 3.28, 3.29, 3.3, 3.37, 3.38, 3.4, 3.46, 3.47, 3.5, 3.53, 3.57, 3.58, 3.6, 3.61, 3.62, 3.55, 3.05, 3.06, 3.07, 3.09, 3.11, 3.12, 3.13, 3.17, 3.19, 3.21, 3.22, 3.23, 3.25, 3.26, 3.27, 3.28, 3.29, 3.3, 3.31, 3.32, 3.33, 3.34, 3.35, 3.36, 3.38, 3.39, 3.4, 3.42, 3.43, 3.44, 3.46, 3.48, 3.51, 3.54, 3.59, 3.61, 3.07, 3.04, 3.06, 3.08, 3.11, 3.18, 3.19, 3.22, 3.23, 3.26, 3.28, 3.29, 3.3, 3.31, 3.35, 3.36, 3.37, 3.38, 3.39, 3.4, 3.41, 3.42, 3.43, 3.44, 3.66, 2.87, 2.94, 2.99, 3.03, 3.04, 3.13, 3.14, 3.17, 3.18, 3.2, 3.21, 3.25, 3.26, 3.29, 3.3, 3.34, 3.35, 3.36, 3.4, 3.42, 3.44, 3.46, 3.47, 3.5, 3.52, 3.57, 3.58, 3.6, 3.07, 3.1, 3.16, 3.18, 3.22, 3.24, 3.25, 3.3, 3.31, 3.33, 3.35, 3.37, 3.38, 3.4, 3.41, 3.44, 3.45, 3.6, 3.07, 3.1, 3.12, 3.13, 3.14, 3.15, 3.17, 3.18, 3.24, 3.25, 3.29, 3.3, 3.31, 3.32, 3.33, 3.34, 3.35, 3.36, 3.37, 3.41, 3.47, 3.49, 3.53, 2.92, 3.05, 3.07, 3.1, 3.15, 3.17, 3.2, 3.21, 3.23, 3.24, 3.25, 3.3, 3.31, 3.32, 3.33, 3.34, 3.35, 3.36, 3.37, 3.38, 3.39, 3.42, 3.44, 3.45, 3.49, 3.53, 3.54, 3.58, 3.69, 3.75, 3.3, 3.44, 3.05, 3.12, 3.15, 3.17, 3.18, 3.24, 3.26, 3.31, 3.32, 3.34, 3.35, 3.38, 3.39, 3.42, 3.46, 3.52, 3.53, 3.56, 3.12, 3.26, 3.28, 3.29, 3.3, 3.31, 3.35, 3.36, 3.37, 3.38, 3.42, 3.43, 3.44, 3.45, 3.51, 3.52, 3.54, 3.63, 3.3, 3.01, 3.1, 3.11, 3.16, 3.17, 3.18, 3.2, 3.21, 3.24, 3.25, 3.27, 3.29, 3.3, 3.31, 3.32, 3.34, 3.35, 3.36, 3.38, 3.41, 3.42, 3.43, 3.44, 3.51, 3.53, 3.56, 3.58, 3.02, 3.08, 3.09, 3.14, 3.15, 3.18, 3.2, 3.21, 3.22, 3.23, 3.24, 3.27, 3.29, 3.33, 3.36, 3.38, 3.39, 3.4, 3.41, 3.44, 3.47, 3.5, 3.53, 3.54, 3.55, 3.06, 3.09, 3.13, 3.14, 3.15, 3.18, 3.21, 3.26, 3.27, 3.29, 3.3, 3.31, 3.32, 3.33, 3.34, 3.35, 3.36, 3.37, 3.38, 3.39, 3.4, 3.41, 3.42, 3.46, 3.47, 3.48, 3.5, 3.51, 3.52, 3.54, 3.62, 3.32, 2.92, 3.14, 3.16, 3.18, 3.23, 3.28, 3.29, 3.32, 3.33, 3.38, 3.41, 3.42, 3.43, 3.44, 3.5, 3.53, 3.56, 3.6, 2.95, 3.12, 3.15, 3.17, 3.18, 3.22, 3.24, 3.26, 3.27, 3.29, 3.3, 3.31, 3.33, 3.34, 3.36, 3.37, 3.4, 3.41, 3.43, 3.45, 3.5, 3.52, 3.54, 3.58, 3.59, 3.6, 3.06, 3.14, 3.16, 3.19, 3.21, 3.23, 3.26, 3.28, 3.31, 3.33, 3.35, 3.37, 3.38, 3.4, 3.41, 3.42, 3.43, 3.44, 3.45, 3.47, 3.51, 3.54, 3.04, 3.06, 3.1, 3.14, 3.15, 3.18, 3.19, 3.2, 3.22, 3.24, 3.3, 3.32, 3.34, 3.35, 3.36, 3.39, 3.44, 3.48, 3.49, 3.51, 3.52, 3.59, 3.61, 3.68, 3.72, 3.05, 3.12, 3.14, 3.16, 3.28, 3.29, 3.3, 3.32, 3.37, 3.42, 3.43, 3.44, 3.45, 3.48, 3.51, 3.59, 3.61, 3.62, 3.66, 3.74, 3.19, 3.21, 3.22, 3.23, 3.29, 3.32, 3.34, 3.35, 3.38, 3.39, 3.48, 3.49, 3.56, 3.67, 3.07, 3.15, 3.22, 3.24, 3.26, 3.27, 3.34, 3.35, 3.38, 3.42, 3.48, 3.51, 3.57, 3.6, 2.98, 3.01, 3.09, 3.12, 3.14, 3.16, 3.18, 3.21, 3.22, 3.26, 3.28, 3.3, 3.31, 3.32, 3.33, 3.37, 3.38, 3.39, 3.4, 3.41, 3.45, 3.46, 3.13, 3.18, 3.2, 3.25, 3.27, 3.28, 3.32, 3.33, 3.36, 3.38, 3.41, 3.44, 3.5, 3.54, 3.57, 3.57, 3.02, 3.12, 3.17, 3.2, 3.21, 3.22, 3.23, 3.28, 3.29, 3.3, 3.33, 3.35, 3.57, 3.15, 3.2, 3.21, 3.24, 3.27, 3.3, 3.35, 3.41, 3.44, 3.49, 3.55, 3.17, 3.2, 3.22, 3.27, 3.33, 3.34, 3.36, 3.44, 3.45, 3.52, 3.54, 3.71, 3.01, 3.21, 3.25, 3.27, 3.44, 3.45, 3.52, 3.58, 3.78, 3.11, 3.26, 3.27, 3.28, 3.3, 3.32, 3.35, 3.36, 3.37, 3.39, 3.52, 3.62, 3.15, 3.16, 3.17, 3.19, 3.21, 3.22, 3.23, 3.27, 3.28, 3.31, 3.35, 3.4, 3.46, 3.57, 3.58, 3.78, 4.01, 3.23, 3.24, 3.27, 3.38, 3.41, 3.43, 2.89, 3.3, 3.35, 3.38, 3.46, 3.56, 3.61, 3.0, 3.22, 3.27, 3.3, 3.33, 3.35, 3.36, 3.39, 3.41, 3.55, 3.71, 3.9, 3.34, 3.46, 3.47, 3.52, 3.56, 3.85, 3.18, 3.22, 3.57, 3.63, 3.2, 3.9, 3.23, 3.11, 3.3, 3.34, 3.06, 3.22, 3.32, 3.39, 3.54, 3.38, 3.49, 3.54, 3.68, 3.32, 3.5, 3.68, 3.7, 3.71, 3.72, 2.98], \"yaxis\": \"y\"}],\n",
              "                        {\"barmode\": \"group\", \"coloraxis\": {\"colorbar\": {\"title\": {\"text\": \"quality\"}}, \"colorscale\": [[0.0, \"#0d0887\"], [0.1111111111111111, \"#46039f\"], [0.2222222222222222, \"#7201a8\"], [0.3333333333333333, \"#9c179e\"], [0.4444444444444444, \"#bd3786\"], [0.5555555555555556, \"#d8576b\"], [0.6666666666666666, \"#ed7953\"], [0.7777777777777778, \"#fb9f3a\"], [0.8888888888888888, \"#fdca26\"], [1.0, \"#f0f921\"]]}, \"height\": 700, \"legend\": {\"tracegroupgap\": 0}, \"margin\": {\"t\": 60}, \"template\": {\"data\": {\"bar\": [{\"error_x\": {\"color\": \"#2a3f5f\"}, \"error_y\": {\"color\": \"#2a3f5f\"}, \"marker\": {\"line\": {\"color\": \"#E5ECF6\", \"width\": 0.5}}, \"type\": \"bar\"}], \"barpolar\": [{\"marker\": {\"line\": {\"color\": \"#E5ECF6\", \"width\": 0.5}}, \"type\": \"barpolar\"}], \"carpet\": [{\"aaxis\": {\"endlinecolor\": \"#2a3f5f\", \"gridcolor\": \"white\", \"linecolor\": \"white\", \"minorgridcolor\": \"white\", \"startlinecolor\": \"#2a3f5f\"}, \"baxis\": {\"endlinecolor\": \"#2a3f5f\", \"gridcolor\": \"white\", \"linecolor\": \"white\", \"minorgridcolor\": \"white\", \"startlinecolor\": \"#2a3f5f\"}, \"type\": \"carpet\"}], \"choropleth\": [{\"colorbar\": {\"outlinewidth\": 0, \"ticks\": \"\"}, \"type\": \"choropleth\"}], \"contour\": [{\"colorbar\": {\"outlinewidth\": 0, \"ticks\": \"\"}, \"colorscale\": [[0.0, \"#0d0887\"], [0.1111111111111111, \"#46039f\"], [0.2222222222222222, \"#7201a8\"], [0.3333333333333333, \"#9c179e\"], [0.4444444444444444, \"#bd3786\"], [0.5555555555555556, \"#d8576b\"], [0.6666666666666666, \"#ed7953\"], [0.7777777777777778, \"#fb9f3a\"], [0.8888888888888888, \"#fdca26\"], [1.0, \"#f0f921\"]], \"type\": \"contour\"}], \"contourcarpet\": [{\"colorbar\": {\"outlinewidth\": 0, \"ticks\": \"\"}, \"type\": \"contourcarpet\"}], \"heatmap\": [{\"colorbar\": {\"outlinewidth\": 0, \"ticks\": \"\"}, \"colorscale\": [[0.0, \"#0d0887\"], [0.1111111111111111, \"#46039f\"], [0.2222222222222222, \"#7201a8\"], [0.3333333333333333, \"#9c179e\"], [0.4444444444444444, \"#bd3786\"], [0.5555555555555556, \"#d8576b\"], [0.6666666666666666, \"#ed7953\"], [0.7777777777777778, \"#fb9f3a\"], [0.8888888888888888, \"#fdca26\"], [1.0, \"#f0f921\"]], \"type\": \"heatmap\"}], \"heatmapgl\": [{\"colorbar\": {\"outlinewidth\": 0, \"ticks\": \"\"}, \"colorscale\": [[0.0, \"#0d0887\"], [0.1111111111111111, \"#46039f\"], [0.2222222222222222, \"#7201a8\"], [0.3333333333333333, \"#9c179e\"], [0.4444444444444444, \"#bd3786\"], [0.5555555555555556, \"#d8576b\"], [0.6666666666666666, \"#ed7953\"], [0.7777777777777778, \"#fb9f3a\"], [0.8888888888888888, \"#fdca26\"], [1.0, \"#f0f921\"]], \"type\": \"heatmapgl\"}], \"histogram\": [{\"marker\": {\"colorbar\": {\"outlinewidth\": 0, \"ticks\": \"\"}}, \"type\": \"histogram\"}], \"histogram2d\": [{\"colorbar\": {\"outlinewidth\": 0, \"ticks\": \"\"}, \"colorscale\": [[0.0, \"#0d0887\"], [0.1111111111111111, \"#46039f\"], [0.2222222222222222, \"#7201a8\"], [0.3333333333333333, \"#9c179e\"], [0.4444444444444444, \"#bd3786\"], [0.5555555555555556, \"#d8576b\"], [0.6666666666666666, \"#ed7953\"], [0.7777777777777778, \"#fb9f3a\"], [0.8888888888888888, \"#fdca26\"], [1.0, \"#f0f921\"]], \"type\": \"histogram2d\"}], \"histogram2dcontour\": [{\"colorbar\": {\"outlinewidth\": 0, \"ticks\": \"\"}, \"colorscale\": [[0.0, \"#0d0887\"], [0.1111111111111111, \"#46039f\"], [0.2222222222222222, \"#7201a8\"], [0.3333333333333333, \"#9c179e\"], [0.4444444444444444, \"#bd3786\"], [0.5555555555555556, \"#d8576b\"], [0.6666666666666666, \"#ed7953\"], [0.7777777777777778, \"#fb9f3a\"], [0.8888888888888888, \"#fdca26\"], [1.0, \"#f0f921\"]], \"type\": \"histogram2dcontour\"}], \"mesh3d\": [{\"colorbar\": {\"outlinewidth\": 0, \"ticks\": \"\"}, \"type\": \"mesh3d\"}], \"parcoords\": [{\"line\": {\"colorbar\": {\"outlinewidth\": 0, \"ticks\": \"\"}}, \"type\": \"parcoords\"}], \"pie\": [{\"automargin\": true, \"type\": \"pie\"}], \"scatter\": [{\"marker\": {\"colorbar\": {\"outlinewidth\": 0, \"ticks\": \"\"}}, \"type\": \"scatter\"}], \"scatter3d\": [{\"line\": {\"colorbar\": {\"outlinewidth\": 0, \"ticks\": \"\"}}, \"marker\": {\"colorbar\": {\"outlinewidth\": 0, \"ticks\": \"\"}}, \"type\": \"scatter3d\"}], \"scattercarpet\": [{\"marker\": {\"colorbar\": {\"outlinewidth\": 0, \"ticks\": \"\"}}, \"type\": \"scattercarpet\"}], \"scattergeo\": [{\"marker\": {\"colorbar\": {\"outlinewidth\": 0, \"ticks\": \"\"}}, \"type\": \"scattergeo\"}], \"scattergl\": [{\"marker\": {\"colorbar\": {\"outlinewidth\": 0, \"ticks\": \"\"}}, \"type\": \"scattergl\"}], \"scattermapbox\": [{\"marker\": {\"colorbar\": {\"outlinewidth\": 0, \"ticks\": \"\"}}, \"type\": \"scattermapbox\"}], \"scatterpolar\": [{\"marker\": {\"colorbar\": {\"outlinewidth\": 0, \"ticks\": \"\"}}, \"type\": \"scatterpolar\"}], \"scatterpolargl\": [{\"marker\": {\"colorbar\": {\"outlinewidth\": 0, \"ticks\": \"\"}}, \"type\": \"scatterpolargl\"}], \"scatterternary\": [{\"marker\": {\"colorbar\": {\"outlinewidth\": 0, \"ticks\": \"\"}}, \"type\": \"scatterternary\"}], \"surface\": [{\"colorbar\": {\"outlinewidth\": 0, \"ticks\": \"\"}, \"colorscale\": [[0.0, \"#0d0887\"], [0.1111111111111111, \"#46039f\"], [0.2222222222222222, \"#7201a8\"], [0.3333333333333333, \"#9c179e\"], [0.4444444444444444, \"#bd3786\"], [0.5555555555555556, \"#d8576b\"], [0.6666666666666666, \"#ed7953\"], [0.7777777777777778, \"#fb9f3a\"], [0.8888888888888888, \"#fdca26\"], [1.0, \"#f0f921\"]], \"type\": \"surface\"}], \"table\": [{\"cells\": {\"fill\": {\"color\": \"#EBF0F8\"}, \"line\": {\"color\": \"white\"}}, \"header\": {\"fill\": {\"color\": \"#C8D4E3\"}, \"line\": {\"color\": \"white\"}}, \"type\": \"table\"}]}, \"layout\": {\"annotationdefaults\": {\"arrowcolor\": \"#2a3f5f\", \"arrowhead\": 0, \"arrowwidth\": 1}, \"coloraxis\": {\"colorbar\": {\"outlinewidth\": 0, \"ticks\": \"\"}}, \"colorscale\": {\"diverging\": [[0, \"#8e0152\"], [0.1, \"#c51b7d\"], [0.2, \"#de77ae\"], [0.3, \"#f1b6da\"], [0.4, \"#fde0ef\"], [0.5, \"#f7f7f7\"], [0.6, \"#e6f5d0\"], [0.7, \"#b8e186\"], [0.8, \"#7fbc41\"], [0.9, \"#4d9221\"], [1, \"#276419\"]], \"sequential\": [[0.0, \"#0d0887\"], [0.1111111111111111, \"#46039f\"], [0.2222222222222222, \"#7201a8\"], [0.3333333333333333, \"#9c179e\"], [0.4444444444444444, \"#bd3786\"], [0.5555555555555556, \"#d8576b\"], [0.6666666666666666, \"#ed7953\"], [0.7777777777777778, \"#fb9f3a\"], [0.8888888888888888, \"#fdca26\"], [1.0, \"#f0f921\"]], \"sequentialminus\": [[0.0, \"#0d0887\"], [0.1111111111111111, \"#46039f\"], [0.2222222222222222, \"#7201a8\"], [0.3333333333333333, \"#9c179e\"], [0.4444444444444444, \"#bd3786\"], [0.5555555555555556, \"#d8576b\"], [0.6666666666666666, \"#ed7953\"], [0.7777777777777778, \"#fb9f3a\"], [0.8888888888888888, \"#fdca26\"], [1.0, \"#f0f921\"]]}, \"colorway\": [\"#636efa\", \"#EF553B\", \"#00cc96\", \"#ab63fa\", \"#FFA15A\", \"#19d3f3\", \"#FF6692\", \"#B6E880\", \"#FF97FF\", \"#FECB52\"], \"font\": {\"color\": \"#2a3f5f\"}, \"geo\": {\"bgcolor\": \"white\", \"lakecolor\": \"white\", \"landcolor\": \"#E5ECF6\", \"showlakes\": true, \"showland\": true, \"subunitcolor\": \"white\"}, \"hoverlabel\": {\"align\": \"left\"}, \"hovermode\": \"closest\", \"mapbox\": {\"style\": \"light\"}, \"paper_bgcolor\": \"white\", \"plot_bgcolor\": \"#E5ECF6\", \"polar\": {\"angularaxis\": {\"gridcolor\": \"white\", \"linecolor\": \"white\", \"ticks\": \"\"}, \"bgcolor\": \"#E5ECF6\", \"radialaxis\": {\"gridcolor\": \"white\", \"linecolor\": \"white\", \"ticks\": \"\"}}, \"scene\": {\"xaxis\": {\"backgroundcolor\": \"#E5ECF6\", \"gridcolor\": \"white\", \"gridwidth\": 2, \"linecolor\": \"white\", \"showbackground\": true, \"ticks\": \"\", \"zerolinecolor\": \"white\"}, \"yaxis\": {\"backgroundcolor\": \"#E5ECF6\", \"gridcolor\": \"white\", \"gridwidth\": 2, \"linecolor\": \"white\", \"showbackground\": true, \"ticks\": \"\", \"zerolinecolor\": \"white\"}, \"zaxis\": {\"backgroundcolor\": \"#E5ECF6\", \"gridcolor\": \"white\", \"gridwidth\": 2, \"linecolor\": \"white\", \"showbackground\": true, \"ticks\": \"\", \"zerolinecolor\": \"white\"}}, \"shapedefaults\": {\"line\": {\"color\": \"#2a3f5f\"}}, \"ternary\": {\"aaxis\": {\"gridcolor\": \"white\", \"linecolor\": \"white\", \"ticks\": \"\"}, \"baxis\": {\"gridcolor\": \"white\", \"linecolor\": \"white\", \"ticks\": \"\"}, \"bgcolor\": \"#E5ECF6\", \"caxis\": {\"gridcolor\": \"white\", \"linecolor\": \"white\", \"ticks\": \"\"}}, \"title\": {\"x\": 0.05}, \"xaxis\": {\"automargin\": true, \"gridcolor\": \"white\", \"linecolor\": \"white\", \"ticks\": \"\", \"title\": {\"standoff\": 15}, \"zerolinecolor\": \"white\", \"zerolinewidth\": 2}, \"yaxis\": {\"automargin\": true, \"gridcolor\": \"white\", \"linecolor\": \"white\", \"ticks\": \"\", \"title\": {\"standoff\": 15}, \"zerolinecolor\": \"white\", \"zerolinewidth\": 2}}}, \"width\": 800, \"xaxis\": {\"anchor\": \"y\", \"domain\": [0.0, 1.0], \"title\": {\"text\": \"alcohol\"}}, \"yaxis\": {\"anchor\": \"x\", \"domain\": [0.0, 1.0], \"title\": {\"text\": \"pH\"}}},\n",
              "                        {\"responsive\": true}\n",
              "                    ).then(function(){\n",
              "                            \n",
              "var gd = document.getElementById('1e14ea62-e6e2-47ef-ab65-caeff6d67047');\n",
              "var x = new MutationObserver(function (mutations, observer) {{\n",
              "        var display = window.getComputedStyle(gd).display;\n",
              "        if (!display || display === 'none') {{\n",
              "            console.log([gd, 'removed!']);\n",
              "            Plotly.purge(gd);\n",
              "            observer.disconnect();\n",
              "        }}\n",
              "}});\n",
              "\n",
              "// Listen for the removal of the full notebook cells\n",
              "var notebookContainer = gd.closest('#notebook-container');\n",
              "if (notebookContainer) {{\n",
              "    x.observe(notebookContainer, {childList: true});\n",
              "}}\n",
              "\n",
              "// Listen for the clearing of the current output cell\n",
              "var outputEl = gd.closest('.output');\n",
              "if (outputEl) {{\n",
              "    x.observe(outputEl, {childList: true});\n",
              "}}\n",
              "\n",
              "                        })\n",
              "                };\n",
              "                \n",
              "            </script>\n",
              "        </div>\n",
              "</body>\n",
              "</html>"
            ]
          },
          "metadata": {
            "tags": []
          }
        }
      ]
    },
    {
      "cell_type": "markdown",
      "metadata": {
        "id": "p_EyBwj1KWCv"
      },
      "source": [
        "Визуелизацијата погоре не изгледа многу добро и не може да се извади заклучоци, но сите вредности во датасетот што го добив се децимални бројчиња, и нема многу вредности кои често се повторуваат, или пак некои категории-  што би ми помогнале да направам убава визуелизација.\n"
      ]
    }
  ]
}